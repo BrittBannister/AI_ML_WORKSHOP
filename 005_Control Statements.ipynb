{
 "cells": [
  {
   "cell_type": "markdown",
   "metadata": {},
   "source": [
    "#### Statement\n",
    "\n",
    "===>>> An instruction which can be executable win in the program\n",
    "\n",
    "#### Program\n",
    "\n",
    "===>> Collection of statements to do any one specific task\n",
    "\n",
    "##### Flow of execution of the program\n",
    "\n",
    "===>>> Statement by Statement\n",
    "\n",
    "#### Control statements\n",
    "\n",
    "===>>> we can change the flow of execution of the program\n",
    "\n",
    "1. Conditional Statements\n",
    "\n",
    "====>>>> The statements of an execution is depends on condition\n",
    "\n",
    "        1. simple if\n",
    "        \n",
    "        2. if and else\n",
    "        \n",
    "        3. elif ladder\n",
    "        \n",
    "        4. nested if \n",
    "\n",
    "2. Looping Statement\n",
    "\n",
    "3. Control Keywords"
   ]
  },
  {
   "cell_type": "code",
   "execution_count": 3,
   "metadata": {},
   "outputs": [
    {
     "name": "stdout",
     "output_type": "stream",
     "text": [
      "enter side1 in meters : 10\n",
      "enter side2 in meters : 10\n",
      "enter side3 in meters : 10\n",
      "area :  43.30127018922193  sq.m\n",
      "if block completed\n"
     ]
    }
   ],
   "source": [
    "#syntax  of simple if\n",
    "'''\n",
    "start\n",
    "-----\n",
    "-----\n",
    "if(cond):\n",
    "    Task\n",
    "    -----\n",
    "    -----\n",
    "stop\n",
    "----\n",
    "----\n",
    "'''\n",
    "# wap find the area of trianlge when all sides are equal\n",
    "a =float(input(\"enter side1 in meters : \"))\n",
    "b =float(input(\"enter side2 in meters : \"))\n",
    "c =float(input(\"enter side3 in meters : \"))\n",
    "if(a==b and b == c):\n",
    "    s = (a+b+c)/2  #   3a/2\n",
    "    area =(s*(s-a)*(s-b)*(s-c))**0.5\n",
    "    print(\"area : \",area,\" sq.m\")\n",
    "print(\"if block completed\")\n"
   ]
  },
  {
   "cell_type": "code",
   "execution_count": 5,
   "metadata": {},
   "outputs": [
    {
     "name": "stdout",
     "output_type": "stream",
     "text": [
      "Welcome to Voter ID Application Center\n",
      "enter age of you in years20\n",
      "Congrats your eligible for applying for Voter ID\n",
      "enter name : anjan\n",
      "enter Date Of Birth : 26-01-1994\n",
      "enter Father's name : Edukondal\n",
      "Thanks for visition the Voter ID Center\n"
     ]
    }
   ],
   "source": [
    "# wap for applying for voter id card\n",
    "print(\"Welcome to Voter ID Application Center\")\n",
    "age =int(input(\"enter age of you in years\"))\n",
    "if(age>= 18):\n",
    "    print(\"Congrats your eligible for applying for Voter ID\")\n",
    "    name =input(\"enter name : \")\n",
    "    dob  =input(\"enter Date Of Birth : \")\n",
    "    fa_name = input(\"enter Father's name : \")\n",
    "print(\"Thanks for visition the Voter ID Center\")"
   ]
  },
  {
   "cell_type": "code",
   "execution_count": 2,
   "metadata": {},
   "outputs": [
    {
     "name": "stdout",
     "output_type": "stream",
     "text": [
      "enter num : 33\n",
      "enter bit : 6\n",
      "num :  97\n",
      "bin :  0b1100001\n"
     ]
    }
   ],
   "source": [
    "# wap find the area and perimter of square when side is divisble by 5\n",
    "\n",
    "# wap find the print the given is odd other wise don't print \n",
    "\n",
    "# wap for finding even number is even or not using bitwise operators\n",
    "\n",
    "# wap for set 6th bit is position of any number if 6th bit position not a 1\n",
    "\n",
    "num = int(input(\"enter num : \"))\n",
    "bit = int(input(\"enter bit : \"))\n",
    "if(num&(1<<bit) ==0):\n",
    "    num = num | (1 << bit)\n",
    "print(\"num : \",num)\n",
    "print(\"bin : \",bin(num))"
   ]
  },
  {
   "cell_type": "code",
   "execution_count": 4,
   "metadata": {},
   "outputs": [
    {
     "name": "stdout",
     "output_type": "stream",
     "text": [
      "enter num : 15\n",
      "odd :  15\n"
     ]
    }
   ],
   "source": [
    "# if and else \n",
    "'''\n",
    "start\n",
    "-----\n",
    "if(cond):\n",
    "    Task\n",
    "    ----\n",
    "else:\n",
    "    Task\n",
    "    ----\n",
    "stop\n",
    "----\n",
    "\n",
    "'''\n",
    "# wap print given number is even or not \n",
    "num = int(input(\"enter num : \"))\n",
    "if(num%2 == 0):\n",
    "    print(\"even : \",num)\n",
    "else:\n",
    "    print(\"odd : \",num)"
   ]
  },
  {
   "cell_type": "code",
   "execution_count": 6,
   "metadata": {},
   "outputs": [
    {
     "name": "stdout",
     "output_type": "stream",
     "text": [
      "enter num : 15\n",
      "odd :  15\n"
     ]
    }
   ],
   "source": [
    "# wap print given number is even or not using bit wise operator\n",
    "num = int(input(\"enter num : \"))\n",
    "if(num &(1<<0)==1):\n",
    "    print(\"odd : \",num)\n",
    "else:\n",
    "    print(\"even : \",num)"
   ]
  },
  {
   "cell_type": "code",
   "execution_count": 9,
   "metadata": {},
   "outputs": [
    {
     "name": "stdout",
     "output_type": "stream",
     "text": [
      "enter percentage : 56\n",
      "B Grade\n"
     ]
    }
   ],
   "source": [
    "# elif ladder \n",
    "'''\n",
    "if(c1):\n",
    "    T1\n",
    "elif(C2):\n",
    "    T2\n",
    "elif(C3):\n",
    "    T3\n",
    "---\n",
    "---\n",
    "else:\n",
    "    Task\n",
    "'''\n",
    "# wap for grading of a student percentage\n",
    "per = float(input(\"enter percentage : \"))\n",
    "if(per >= 70):\n",
    "    print(\"A Grade with Distinction\")\n",
    "elif(per >= 60):\n",
    "    print(\"A Grade\")\n",
    "elif(per >= 50):\n",
    "    print(\"B Grade\")\n",
    "elif(per >= 40):\n",
    "    print(\"E Grade\")\n",
    "else:\n",
    "    print(\"Better Luck Next Time !\")"
   ]
  },
  {
   "cell_type": "code",
   "execution_count": null,
   "metadata": {},
   "outputs": [],
   "source": [
    "# wap print the salary based exp in years\n",
    "'''\n",
    " > 0 --> 2.4 LPA\n",
    " > 2 --> 3.6 LPA\n",
    " >\n",
    " > 20 ->56 LPA\n",
    " give the proper exp\n",
    "'''"
   ]
  },
  {
   "cell_type": "code",
   "execution_count": 13,
   "metadata": {},
   "outputs": [
    {
     "name": "stdout",
     "output_type": "stream",
     "text": [
      "enter year : 1900\n",
      "1900  is not a leap year\n"
     ]
    }
   ],
   "source": [
    "# nested if \n",
    "# wap find the given year is leap or not\n",
    "'''\n",
    "1. divisble by 4\n",
    "             a. divisible by 100\n",
    "                 i. divisible by 400 --> leap\n",
    "                 ii. not divisble by 400 --> not leap\n",
    "             \n",
    "             b. not divisible by 100 --> leap\n",
    "\n",
    "2. if not divisible then its not leap year\n",
    "'''\n",
    "year = int(input(\"enter year : \"))\n",
    "if(year % 4 ==0):\n",
    "    if(year % 100 ==0):\n",
    "        if(year%400 ==0):\n",
    "            print(year,\" is  a leap year\")\n",
    "        else:\n",
    "            print(year,\" is not a leap year\")\n",
    "    else:\n",
    "        print(year,\" is a leap year\")\n",
    "else:\n",
    "    print(year,\" is not a leap year\")"
   ]
  },
  {
   "cell_type": "code",
   "execution_count": 14,
   "metadata": {},
   "outputs": [
    {
     "name": "stdout",
     "output_type": "stream",
     "text": [
      "i : 1\n",
      "i : 2\n",
      "i : 3\n",
      "i : 4\n",
      "i : 5\n",
      "i : 6\n",
      "i : 7\n",
      "i : 8\n",
      "i : 9\n",
      "i : 10\n",
      "while loop is done\n"
     ]
    }
   ],
   "source": [
    "# Looping statements\n",
    "'''\n",
    "===> to do a task multiple times continuosly\n",
    "1. while loop\n",
    "\n",
    "start\n",
    "-----\n",
    "while(cond):\n",
    "    Task\n",
    "    ----\n",
    "else:\n",
    "    Task\n",
    "    ----\n",
    "    \n",
    "'''\n",
    "# wap  print 1 to 10\n",
    "i = 1\n",
    "while(i<=10):\n",
    "    print(\"i :\",i)\n",
    "    i = i +1\n",
    "else:\n",
    "    print(\"while loop is done\")"
   ]
  },
  {
   "cell_type": "code",
   "execution_count": 15,
   "metadata": {},
   "outputs": [
    {
     "name": "stdout",
     "output_type": "stream",
     "text": [
      "enter N :100\n",
      "sum of 1st  100  natural number is  5050\n"
     ]
    }
   ],
   "source": [
    "# wap print sum of 1st 100 natural numbers\n",
    "N = int(input(\"enter N :\"))\n",
    "i = 1\n",
    "sum = 0\n",
    "while(i<=N):\n",
    "    sum = sum + i\n",
    "    i = i +1\n",
    "else:\n",
    "    print(\"sum of 1st \",N,\" natural number is \",sum)"
   ]
  },
  {
   "cell_type": "code",
   "execution_count": 16,
   "metadata": {},
   "outputs": [
    {
     "name": "stdout",
     "output_type": "stream",
     "text": [
      "enter N :5\n",
      "factorial  of  5   is  120\n"
     ]
    }
   ],
   "source": [
    "# wap find the factorial of a number \n",
    "N = int(input(\"enter N :\"))\n",
    "i = 1\n",
    "fact = 1\n",
    "while(i<=N):\n",
    "    fact = fact * i\n",
    "    i = i +1\n",
    "else:\n",
    "    print(\"factorial  of \",N,\"  is \",fact)"
   ]
  },
  {
   "cell_type": "code",
   "execution_count": 18,
   "metadata": {},
   "outputs": [
    {
     "name": "stdout",
     "output_type": "stream",
     "text": [
      "enter N :10\n",
      "factor :  1\n",
      "factor :  2\n",
      "factor :  5\n",
      "factor :  10\n",
      "total factors for  10   is  4\n"
     ]
    }
   ],
   "source": [
    "# wap find the no of factors of any number and print them\n",
    "'''\n",
    "10\n",
    "==> 1  ,   2 ,   5 , 10  ====>>> 4\n",
    "'''\n",
    "N = int(input(\"enter N :\"))\n",
    "i = 1\n",
    "factor = 0\n",
    "while(i<=N):\n",
    "    if(N % i == 0):\n",
    "        print(\"factor : \",i)\n",
    "        factor += 1\n",
    "    i = i +1\n",
    "else:\n",
    "    print(\"total factors for \",N,\"  is \",factor)"
   ]
  },
  {
   "cell_type": "code",
   "execution_count": null,
   "metadata": {},
   "outputs": [],
   "source": [
    "# wap for find the given number is prime or not \n",
    "'''\n",
    "total factors for any number is 2 then that is prime\n",
    "'''"
   ]
  },
  {
   "cell_type": "code",
   "execution_count": 19,
   "metadata": {},
   "outputs": [
    {
     "name": "stdout",
     "output_type": "stream",
     "text": [
      "enter : 646475\n",
      "total digits for  646475  is  6\n"
     ]
    }
   ],
   "source": [
    "# wap find the total no of digits in a number\n",
    "'''\n",
    "6793 ---> 4\n",
    "879233--> 6\n",
    "'''\n",
    "N = int(input(\"enter : \"))\n",
    "digits = 0\n",
    "temp = N\n",
    "while(temp != 0):\n",
    "    digits += 1\n",
    "    temp = temp // 10\n",
    "else:\n",
    "    print(\"total digits for \",N,\" is \",digits)"
   ]
  },
  {
   "cell_type": "code",
   "execution_count": 21,
   "metadata": {},
   "outputs": [
    {
     "name": "stdout",
     "output_type": "stream",
     "text": [
      "enter : 45782\n",
      "total digits for  45782  is  26\n"
     ]
    }
   ],
   "source": [
    "# wap find the sum of digits in a number\n",
    "'''\n",
    "35634 --> 3+5+6+3+4 ===>21\n",
    "'''\n",
    "N = int(input(\"enter : \"))\n",
    "digits = 0\n",
    "temp = N\n",
    "while(temp != 0):\n",
    "    digits += temp%10\n",
    "    temp = temp // 10\n",
    "else:\n",
    "    print(\"total digits for \",N,\" is \",digits)"
   ]
  },
  {
   "cell_type": "code",
   "execution_count": 22,
   "metadata": {},
   "outputs": [
    {
     "name": "stdout",
     "output_type": "stream",
     "text": [
      "enter : 78946\n",
      "reverse of   78946  is  64987\n"
     ]
    }
   ],
   "source": [
    "# wap find the reverse of a number\n",
    "'''\n",
    "35323 ->  32353\n",
    "'''\n",
    "N = int(input(\"enter : \"))\n",
    "rev = 0\n",
    "temp = N\n",
    "while(temp != 0):\n",
    "    rem = temp % 10\n",
    "    rev = rev *10 + rem\n",
    "    temp = temp // 10\n",
    "else:\n",
    "    print(\"reverse of  \",N,\" is \",rev)"
   ]
  },
  {
   "cell_type": "code",
   "execution_count": 24,
   "metadata": {},
   "outputs": [
    {
     "name": "stdout",
     "output_type": "stream",
     "text": [
      "enter : 787\n",
      "787  is Palindrome\n"
     ]
    }
   ],
   "source": [
    "# wap find given number palindrome  --> Original == Reverse \n",
    "N = int(input(\"enter : \"))\n",
    "rev = 0\n",
    "temp = N\n",
    "while(temp != 0):\n",
    "    rem = temp % 10\n",
    "    rev = rev *10 + rem\n",
    "    temp = temp // 10\n",
    "if(N == rev):\n",
    "    print(N,\" is Palindrome\")\n",
    "else :\n",
    "    print(N,\" is not a palindrome\")"
   ]
  },
  {
   "cell_type": "code",
   "execution_count": 25,
   "metadata": {},
   "outputs": [
    {
     "name": "stdout",
     "output_type": "stream",
     "text": [
      "enter N : 10\n",
      "0  1  1  2  3  5  8  13  21  34  "
     ]
    }
   ],
   "source": [
    "# wap print the 1st 10 Fibonic series of elements\n",
    "'''\n",
    "0   1    1   2   3    5    8   13    21    34\n",
    "'''\n",
    "N = int(input(\"enter N : \"))\n",
    "a = 0\n",
    "b = 1\n",
    "while(N!=0):\n",
    "    print(a,end = \"  \")\n",
    "    c =a + b\n",
    "    a =b\n",
    "    b =c\n",
    "    N = N -1\n",
    "    "
   ]
  },
  {
   "cell_type": "code",
   "execution_count": 1,
   "metadata": {},
   "outputs": [
    {
     "name": "stdout",
     "output_type": "stream",
     "text": [
      "enter N : 10\n",
      "1\n",
      "2\n",
      "3\n",
      "4\n",
      "5\n",
      "6\n",
      "7\n",
      "8\n",
      "9\n",
      "10\n"
     ]
    }
   ],
   "source": [
    "# wap print 1 to 10\n",
    "N = int(input(\"enter N : \"))\n",
    "for var in range(1,N+1):\n",
    "    print(var)"
   ]
  },
  {
   "cell_type": "code",
   "execution_count": 2,
   "metadata": {},
   "outputs": [
    {
     "name": "stdout",
     "output_type": "stream",
     "text": [
      "enter N : 100\n",
      "sum :  5050\n"
     ]
    }
   ],
   "source": [
    "# wap sum of 1st natural number\n",
    "N = int(input(\"enter N : \"))\n",
    "sum = 0\n",
    "for var in range(1,N+1):\n",
    "    sum = sum + var\n",
    "else:\n",
    "    print(\"sum : \",sum)"
   ]
  },
  {
   "cell_type": "code",
   "execution_count": null,
   "metadata": {},
   "outputs": [],
   "source": [
    "# wap find the factorial of a number  with help of for loop\n"
   ]
  },
  {
   "cell_type": "code",
   "execution_count": 4,
   "metadata": {},
   "outputs": [],
   "source": [
    "# control keywords \n",
    "'''\n",
    "1. pass \n",
    "2. break\n",
    "3. continue\n",
    "'''\n",
    "# pass\n",
    "'''\n",
    "empty block --> error --> pass keyword\n",
    "'''\n",
    "if(True):\n",
    "    pass"
   ]
  },
  {
   "cell_type": "code",
   "execution_count": 5,
   "metadata": {},
   "outputs": [],
   "source": [
    "if(False):\n",
    "    pass\n",
    "else:\n",
    "    pass"
   ]
  },
  {
   "cell_type": "code",
   "execution_count": 6,
   "metadata": {},
   "outputs": [
    {
     "name": "stdout",
     "output_type": "stream",
     "text": [
      "hello\n",
      "hello\n",
      "hello\n",
      "hello\n",
      "hello\n",
      "hello\n",
      "hello\n",
      "hello\n",
      "hello\n",
      "hello\n"
     ]
    }
   ],
   "source": [
    "# wap print hello 10 time with some delay\n",
    "for e in range(10):\n",
    "    for var in range(10000000):\n",
    "        pass\n",
    "    print(\"hello\")"
   ]
  },
  {
   "cell_type": "code",
   "execution_count": 7,
   "metadata": {},
   "outputs": [
    {
     "name": "stdout",
     "output_type": "stream",
     "text": [
      "1\n",
      "2\n",
      "3\n",
      "4\n",
      "6\n",
      "8\n",
      "9\n",
      "10\n"
     ]
    }
   ],
   "source": [
    "# continue ---> skip the present iteration and continue the next iteration\n",
    "# wap prin 1 to 10 except 5 and 7\n",
    "for i in range(1,11):\n",
    "    if(i == 5 or i ==7):\n",
    "        continue\n",
    "    print(i)"
   ]
  },
  {
   "cell_type": "code",
   "execution_count": 9,
   "metadata": {},
   "outputs": [
    {
     "name": "stdout",
     "output_type": "stream",
     "text": [
      "1\n",
      "2\n",
      "3\n",
      "4\n",
      "5\n",
      "6\n"
     ]
    }
   ],
   "source": [
    "# break --> stop the loops\n",
    "# wap print 1 to 10 but stop 7\n",
    "for e in range(1,11):\n",
    "    if(e == 7):\n",
    "        break\n",
    "    print(e)\n",
    "else:\n",
    "    print(\"else block also won't executes\")"
   ]
  },
  {
   "cell_type": "code",
   "execution_count": 13,
   "metadata": {},
   "outputs": [
    {
     "name": "stdout",
     "output_type": "stream",
     "text": [
      "Enter number: 9\n",
      "9 is not a prime number\n"
     ]
    }
   ],
   "source": [
    "# wap find the given number is prime or npt using break\n",
    "N = int(input(\"Enter number: \"))\n",
    "if N > 1:\n",
    "    for i in range(2, N):\n",
    "        if (N % i) == 0:\n",
    "            print(N, \"is not a prime number\")\n",
    "            break\n",
    "    else:\n",
    "        print(N, \"is a prime number\")\n",
    "else:\n",
    "    print(N, \"is not a prime number\")\n"
   ]
  },
  {
   "cell_type": "code",
   "execution_count": 14,
   "metadata": {},
   "outputs": [
    {
     "name": "stdout",
     "output_type": "stream",
     "text": [
      "*  \n",
      "*  *  \n",
      "*  *  *  \n",
      "*  *  *  *  \n",
      "*  *  *  *  *  \n"
     ]
    }
   ],
   "source": [
    "'''\n",
    "*\n",
    "*  *\n",
    "*  *   *\n",
    "*  *   *   *\n",
    "*  *   *   *  *\n",
    "'''\n",
    "# wap generate above pattern with using  single loop\n",
    "for i in range(1,6):\n",
    "    print(\"*  \"*i)"
   ]
  },
  {
   "cell_type": "code",
   "execution_count": 16,
   "metadata": {},
   "outputs": [
    {
     "name": "stdout",
     "output_type": "stream",
     "text": [
      "1  \n",
      "2  2  \n",
      "3  3  3  \n",
      "4  4  4  4  \n",
      "5  5  5  5  5  \n"
     ]
    }
   ],
   "source": [
    "'''\n",
    "1 \n",
    "2  2 \n",
    "3  3  3\n",
    "4  4   4  4\n",
    "5  5   5  5  5\n",
    "'''\n",
    "for i in range(1,6):\n",
    "    n = str(i)+\"  \"\n",
    "    print(n* i )"
   ]
  },
  {
   "cell_type": "code",
   "execution_count": 17,
   "metadata": {},
   "outputs": [
    {
     "name": "stdout",
     "output_type": "stream",
     "text": [
      "*  \n",
      "#  #  \n",
      "*  *  *  \n",
      "#  #  #  #  \n",
      "*  *  *  *  *  \n"
     ]
    }
   ],
   "source": [
    "'''\n",
    "*\n",
    "#  #\n",
    "*  *   *\n",
    "#  #   #  #\n",
    "*  *   *  *  #\n",
    "'''\n",
    "for i in range(1,6):\n",
    "    n =\"*  \"\n",
    "    if(i%2 ==0):\n",
    "        n=\"#  \"\n",
    "    print(n*i)"
   ]
  },
  {
   "cell_type": "code",
   "execution_count": null,
   "metadata": {},
   "outputs": [],
   "source": []
  },
  {
   "cell_type": "code",
   "execution_count": null,
   "metadata": {},
   "outputs": [],
   "source": []
  }
 ],
 "metadata": {
  "kernelspec": {
   "display_name": "Python 3",
   "language": "python",
   "name": "python3"
  },
  "language_info": {
   "codemirror_mode": {
    "name": "ipython",
    "version": 3
   },
   "file_extension": ".py",
   "mimetype": "text/x-python",
   "name": "python",
   "nbconvert_exporter": "python",
   "pygments_lexer": "ipython3",
   "version": "3.8.3"
  }
 },
 "nbformat": 4,
 "nbformat_minor": 4
}
