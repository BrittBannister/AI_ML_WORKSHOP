{
 "cells": [
  {
   "cell_type": "markdown",
   "metadata": {},
   "source": [
    "#### Statement\n",
    "\n",
    "===>>> An instruction which can be executable win in the program\n",
    "\n",
    "#### Program\n",
    "\n",
    "===>> Collection of statements to do any one specific task\n",
    "\n",
    "##### Flow of execution of the program\n",
    "\n",
    "===>>> Statement by Statement\n",
    "\n",
    "#### Control statements\n",
    "\n",
    "===>>> we can change the flow of execution of the program\n",
    "\n",
    "1. Conditional Statements\n",
    "\n",
    "====>>>> The statements of an execution is depends on condition\n",
    "\n",
    "        1. simple if\n",
    "        \n",
    "        2. if and else\n",
    "        \n",
    "        3. elif ladder\n",
    "        \n",
    "        4. nested if \n",
    "\n",
    "2. Looping Statement\n",
    "\n",
    "3. Control Keywords"
   ]
  },
  {
   "cell_type": "code",
   "execution_count": 3,
   "metadata": {},
   "outputs": [
    {
     "name": "stdout",
     "output_type": "stream",
     "text": [
      "enter side1 in meters : 10\n",
      "enter side2 in meters : 10\n",
      "enter side3 in meters : 10\n",
      "area :  43.30127018922193  sq.m\n",
      "if block completed\n"
     ]
    }
   ],
   "source": [
    "#syntax  of simple if\n",
    "'''\n",
    "start\n",
    "-----\n",
    "-----\n",
    "if(cond):\n",
    "    Task\n",
    "    -----\n",
    "    -----\n",
    "stop\n",
    "----\n",
    "----\n",
    "'''\n",
    "# wap find the area of trianlge when all sides are equal\n",
    "a =float(input(\"enter side1 in meters : \"))\n",
    "b =float(input(\"enter side2 in meters : \"))\n",
    "c =float(input(\"enter side3 in meters : \"))\n",
    "if(a==b and b == c):\n",
    "    s = (a+b+c)/2  #   3a/2\n",
    "    area =(s*(s-a)*(s-b)*(s-c))**0.5\n",
    "    print(\"area : \",area,\" sq.m\")\n",
    "print(\"if block completed\")\n"
   ]
  },
  {
   "cell_type": "code",
   "execution_count": 5,
   "metadata": {},
   "outputs": [
    {
     "name": "stdout",
     "output_type": "stream",
     "text": [
      "Welcome to Voter ID Application Center\n",
      "enter age of you in years20\n",
      "Congrats your eligible for applying for Voter ID\n",
      "enter name : anjan\n",
      "enter Date Of Birth : 26-01-1994\n",
      "enter Father's name : Edukondal\n",
      "Thanks for visition the Voter ID Center\n"
     ]
    }
   ],
   "source": [
    "# wap for applying for voter id card\n",
    "print(\"Welcome to Voter ID Application Center\")\n",
    "age =int(input(\"enter age of you in years\"))\n",
    "if(age>= 18):\n",
    "    print(\"Congrats your eligible for applying for Voter ID\")\n",
    "    name =input(\"enter name : \")\n",
    "    dob  =input(\"enter Date Of Birth : \")\n",
    "    fa_name = input(\"enter Father's name : \")\n",
    "print(\"Thanks for visition the Voter ID Center\")"
   ]
  },
  {
   "cell_type": "code",
   "execution_count": null,
   "metadata": {},
   "outputs": [],
   "source": [
    "# wap find the area and perimter of square when side is divisble by 5\n",
    "\n",
    "# wap find the print the given is odd other wise don't print \n",
    "\n",
    "# wap for finding even number is even or not using bitwise operators\n",
    "\n",
    "# wap for set 6th bit is position of any number if "
   ]
  }
 ],
 "metadata": {
  "kernelspec": {
   "display_name": "Python 3",
   "language": "python",
   "name": "python3"
  },
  "language_info": {
   "codemirror_mode": {
    "name": "ipython",
    "version": 3
   },
   "file_extension": ".py",
   "mimetype": "text/x-python",
   "name": "python",
   "nbconvert_exporter": "python",
   "pygments_lexer": "ipython3",
   "version": "3.8.3"
  }
 },
 "nbformat": 4,
 "nbformat_minor": 4
}
