{
 "cells": [
  {
   "cell_type": "code",
   "execution_count": 1,
   "metadata": {},
   "outputs": [
    {
     "name": "stdout",
     "output_type": "stream",
     "text": [
      "123\n",
      "-123\n",
      "False\n",
      "-124\n"
     ]
    }
   ],
   "source": [
    "# unary operator\n",
    "a =123\n",
    "print(+a)\n",
    "print(-a)\n",
    "print(not a)# false\n",
    "print(~ a) # -124  # bitwise operator , i can explain"
   ]
  },
  {
   "cell_type": "code",
   "execution_count": 2,
   "metadata": {},
   "outputs": [
    {
     "name": "stdout",
     "output_type": "stream",
     "text": [
      "36\n",
      "12\n",
      "True\n",
      "False\n"
     ]
    }
   ],
   "source": [
    "# binary operator\n",
    "a = 12\n",
    "b = 24\n",
    "print(a+b) # addition  \n",
    "print(b - a) #\n",
    "print(a < b)\n",
    "print(a == b)"
   ]
  },
  {
   "cell_type": "code",
   "execution_count": 3,
   "metadata": {},
   "outputs": [
    {
     "name": "stdout",
     "output_type": "stream",
     "text": [
      "125\n",
      "121\n",
      "246\n",
      "1\n",
      "61.5\n",
      "61\n",
      "15129\n",
      "10633823966279326983230456482242756608\n"
     ]
    }
   ],
   "source": [
    "#arithmetic operator\n",
    "a = 123\n",
    "b = 2\n",
    "print(a + b ) # 125\n",
    "print(a -b )  #  121\n",
    "print(a * b)  # 246\n",
    "print(a % b ) # 1\n",
    "print(a / b)  # 61.5\n",
    "print(a // b) # 61\n",
    "print(a ** b) # 15129\n",
    "print(b ** a) # 10633823966279326983230456482242756608"
   ]
  },
  {
   "cell_type": "code",
   "execution_count": 4,
   "metadata": {},
   "outputs": [
    {
     "name": "stdout",
     "output_type": "stream",
     "text": [
      "enter side of square in meters : 20\n"
     ]
    },
    {
     "ename": "TypeError",
     "evalue": "unsupported operand type(s) for ** or pow(): 'str' and 'int'",
     "output_type": "error",
     "traceback": [
      "\u001b[1;31m---------------------------------------------------------------------------\u001b[0m",
      "\u001b[1;31mTypeError\u001b[0m                                 Traceback (most recent call last)",
      "\u001b[1;32m<ipython-input-4-06f007e0bffc>\u001b[0m in \u001b[0;36m<module>\u001b[1;34m\u001b[0m\n\u001b[0;32m      5\u001b[0m '''\n\u001b[0;32m      6\u001b[0m \u001b[0mside\u001b[0m \u001b[1;33m=\u001b[0m \u001b[0minput\u001b[0m\u001b[1;33m(\u001b[0m\u001b[1;34m\"enter side of square in meters : \"\u001b[0m\u001b[1;33m)\u001b[0m  \u001b[1;31m# reading the data from keyboard\u001b[0m\u001b[1;33m\u001b[0m\u001b[1;33m\u001b[0m\u001b[0m\n\u001b[1;32m----> 7\u001b[1;33m \u001b[0marea\u001b[0m \u001b[1;33m=\u001b[0m \u001b[0mside\u001b[0m \u001b[1;33m**\u001b[0m \u001b[1;36m2\u001b[0m\u001b[1;33m\u001b[0m\u001b[1;33m\u001b[0m\u001b[0m\n\u001b[0m\u001b[0;32m      8\u001b[0m \u001b[0mperi\u001b[0m \u001b[1;33m=\u001b[0m \u001b[1;36m4\u001b[0m \u001b[1;33m*\u001b[0m \u001b[0mside\u001b[0m\u001b[1;33m\u001b[0m\u001b[1;33m\u001b[0m\u001b[0m\n\u001b[0;32m      9\u001b[0m \u001b[0mprint\u001b[0m\u001b[1;33m(\u001b[0m\u001b[1;34m\"area :  \"\u001b[0m\u001b[1;33m,\u001b[0m\u001b[0marea\u001b[0m\u001b[1;33m,\u001b[0m\u001b[1;34m\" sq.m\"\u001b[0m\u001b[1;33m)\u001b[0m\u001b[1;33m\u001b[0m\u001b[1;33m\u001b[0m\u001b[0m\n",
      "\u001b[1;31mTypeError\u001b[0m: unsupported operand type(s) for ** or pow(): 'str' and 'int'"
     ]
    }
   ],
   "source": [
    "# wap find the area of square & perimeter\n",
    "'''\n",
    "area = side ** 2\n",
    "peri = 4 * side\n",
    "'''\n",
    "side = input(\"enter side of square in meters : \")  # reading the data from keyboard\n",
    "area = side ** 2\n",
    "peri = 4 * side\n",
    "print(\"area :  \",area,\" sq.m\")\n",
    "print(\"peri :  \",peri,\" meters \")"
   ]
  },
  {
   "cell_type": "code",
   "execution_count": 6,
   "metadata": {},
   "outputs": [
    {
     "name": "stdout",
     "output_type": "stream",
     "text": [
      "enter int : 10\n",
      "<class 'str'>\n",
      "<class 'int'>\n"
     ]
    }
   ],
   "source": [
    "a = input(\"enter int : \")\n",
    "print(type(a))\n",
    "# int() ----> str ---> int\n",
    "a = int(a)\n",
    "print(type(a))"
   ]
  },
  {
   "cell_type": "code",
   "execution_count": 7,
   "metadata": {},
   "outputs": [
    {
     "name": "stdout",
     "output_type": "stream",
     "text": [
      "enter side of square in meters : 10\n",
      "area :   100  sq.m\n",
      "peri :   40  meters \n"
     ]
    }
   ],
   "source": [
    "# wap find the area of square & perimeter\n",
    "'''\n",
    "area = side ** 2\n",
    "peri = 4 * side\n",
    "'''\n",
    "side = input(\"enter side of square in meters : \")  # reading the data from keyboard\n",
    "side = int(side)\n",
    "area = side ** 2\n",
    "peri = 4 * side\n",
    "print(\"area :  \",area,\" sq.m\")\n",
    "print(\"peri :  \",peri,\" meters \")"
   ]
  },
  {
   "cell_type": "code",
   "execution_count": null,
   "metadata": {},
   "outputs": [],
   "source": [
    "#wap find the area of rectangle and perimeter"
   ]
  },
  {
   "cell_type": "code",
   "execution_count": 8,
   "metadata": {},
   "outputs": [
    {
     "name": "stdout",
     "output_type": "stream",
     "text": [
      "True\n",
      "False\n",
      "False\n",
      "True\n",
      "True\n",
      "False\n"
     ]
    }
   ],
   "source": [
    "# conditional  operator\n",
    "'''\n",
    "1. lessthan   <\n",
    "2. greaterthan >\n",
    "3. equal to   ==\n",
    "4. not equal too !=\n",
    "5. lessthna or equal   <=\n",
    "6. greaterthan or equal >=\n",
    "'''\n",
    "a = 12\n",
    "b = 23\n",
    "print(a < b)  # True\n",
    "print(a > b)  # False\n",
    "print(a == b) # False\n",
    "print(a != b )# True\n",
    "print(a <= b) # True\n",
    "print(a >= b) # False"
   ]
  },
  {
   "cell_type": "code",
   "execution_count": 9,
   "metadata": {},
   "outputs": [
    {
     "name": "stdout",
     "output_type": "stream",
     "text": [
      "False\n",
      "False\n",
      "False\n",
      "True\n"
     ]
    }
   ],
   "source": [
    "# logical operator\n",
    "'''\n",
    "1. logical AND----->> and\n",
    "2. Logical OR ----->> or\n",
    "3. Logical NOT----->> not\n",
    "'''\n",
    "# logical AND\n",
    "'''\n",
    "in1    in2    out\n",
    "\n",
    "False  False   False\n",
    "False  TRue    False\n",
    "True   False   False\n",
    "True   True    True\n",
    "'''\n",
    "print(False and False)\n",
    "print(False and True)\n",
    "print(True and False)\n",
    "print(True and True)"
   ]
  },
  {
   "cell_type": "code",
   "execution_count": 10,
   "metadata": {},
   "outputs": [
    {
     "name": "stdout",
     "output_type": "stream",
     "text": [
      "34\n",
      "10\n",
      "\n",
      "34\n",
      "[]\n"
     ]
    }
   ],
   "source": [
    "print(10 and 34) # 34\n",
    "print(34 and 10) # 10\n",
    "print(\"\" and 34) # \"\"\n",
    "print(\" \" and 34)# 34\n",
    "print([] and {1,2})#[]"
   ]
  },
  {
   "cell_type": "code",
   "execution_count": 11,
   "metadata": {},
   "outputs": [
    {
     "name": "stdout",
     "output_type": "stream",
     "text": [
      "{}\n",
      "(1, 2, 3)\n",
      "\n"
     ]
    }
   ],
   "source": [
    "print({12:45} and {})\n",
    "print({1,2} and (1,2,3))\n",
    "print((1,2,) and \"\")"
   ]
  },
  {
   "cell_type": "code",
   "execution_count": 12,
   "metadata": {},
   "outputs": [
    {
     "name": "stdout",
     "output_type": "stream",
     "text": [
      "{12: 45}\n",
      "{1, 2}\n",
      "(1, 2)\n"
     ]
    }
   ],
   "source": [
    "print({12:45} or {})\n",
    "print({1,2} or  (1,2,3))\n",
    "print((1,2,) or  \"\")"
   ]
  },
  {
   "cell_type": "code",
   "execution_count": 13,
   "metadata": {},
   "outputs": [
    {
     "name": "stdout",
     "output_type": "stream",
     "text": [
      "False\n",
      "True\n"
     ]
    }
   ],
   "source": [
    "# logical  not \n",
    "\n",
    "print(not (1,2)) # False\n",
    "print(not \"\") # True"
   ]
  },
  {
   "cell_type": "code",
   "execution_count": 14,
   "metadata": {},
   "outputs": [
    {
     "name": "stdout",
     "output_type": "stream",
     "text": [
      "True\n",
      "False\n",
      "False\n",
      "True\n"
     ]
    }
   ],
   "source": [
    "#special Operators\n",
    "# Membership Operator\n",
    "'''\n",
    "to check the one specific data is the member for some group of elements\n",
    "\n",
    "in \n",
    "True  --> member\n",
    "False --> not member\n",
    "\n",
    "not in \n",
    "\n",
    "True --> not member \n",
    "False --> member\n",
    "'''\n",
    "a = 10\n",
    "b = 20\n",
    "c = [10,30,56]\n",
    "print(a in c) # True\n",
    "print(b in c) # False\n",
    "print(a not in c) #False\n",
    "print(b not in c) # True"
   ]
  },
  {
   "cell_type": "code",
   "execution_count": 18,
   "metadata": {},
   "outputs": [
    {
     "name": "stdout",
     "output_type": "stream",
     "text": [
      "651720226240\n",
      "651720225984\n",
      "False\n",
      "True\n"
     ]
    }
   ],
   "source": [
    "# identity operator\n",
    "'''\n",
    "==> to check the memory of any two data is same or not \n",
    "\n",
    "is :\n",
    "True ---> Same memory loc\n",
    "False --> Different memory loc\n",
    "\n",
    "is not \n",
    "\n",
    "False ---> Same memory loc\n",
    "True --> Different memory loc\n",
    "'''\n",
    "a = [1,2,3]\n",
    "b = [1,2,3]\n",
    "print(id(a))\n",
    "print(id(b))\n",
    "print(a is b) # False\n",
    "print(a is not b) # True"
   ]
  },
  {
   "cell_type": "code",
   "execution_count": 17,
   "metadata": {},
   "outputs": [
    {
     "name": "stdout",
     "output_type": "stream",
     "text": [
      "140731804239456\n",
      "140731804239456\n",
      "True\n",
      "False\n"
     ]
    }
   ],
   "source": [
    "a = 123\n",
    "b = 123\n",
    "print(id(a))\n",
    "print(id(b))\n",
    "print(a is b) # True\n",
    "print(a is not b)# False"
   ]
  },
  {
   "cell_type": "code",
   "execution_count": 19,
   "metadata": {},
   "outputs": [
    {
     "name": "stdout",
     "output_type": "stream",
     "text": [
      "123\n",
      "123\n",
      "15141\n"
     ]
    }
   ],
   "source": [
    "# Assignment operator   =\n",
    "a = 123  # constant to variable\n",
    "b = a    # variable to variable\n",
    "c =  a*b+12 # expression to variable\n",
    "print(a)\n",
    "print(b)\n",
    "print(c)"
   ]
  },
  {
   "cell_type": "code",
   "execution_count": 20,
   "metadata": {},
   "outputs": [
    {
     "name": "stdout",
     "output_type": "stream",
     "text": [
      "46\n"
     ]
    }
   ],
   "source": [
    "# compound Assignment operator\n",
    "a = 12\n",
    "b = 34\n",
    "a = a+b   # 46<----- a\n",
    "print(a)\n"
   ]
  },
  {
   "cell_type": "code",
   "execution_count": 21,
   "metadata": {},
   "outputs": [
    {
     "name": "stdout",
     "output_type": "stream",
     "text": [
      "46\n"
     ]
    }
   ],
   "source": [
    "a = 12\n",
    "b = 34\n",
    "a += b   # a  =  a+b\n",
    "print(a)\n"
   ]
  },
  {
   "cell_type": "code",
   "execution_count": 22,
   "metadata": {},
   "outputs": [
    {
     "name": "stdout",
     "output_type": "stream",
     "text": [
      "-22\n"
     ]
    }
   ],
   "source": [
    "a = 12\n",
    "b = 34\n",
    "a -= b  #a = a-b   # 46<----- a\n",
    "print(a)\n"
   ]
  },
  {
   "cell_type": "code",
   "execution_count": 24,
   "metadata": {},
   "outputs": [
    {
     "name": "stdout",
     "output_type": "stream",
     "text": [
      "408\n"
     ]
    }
   ],
   "source": [
    "a = 12\n",
    "b = 34\n",
    "a *= b # a =  a*b    # 46<----- a\n",
    "print(a)\n"
   ]
  },
  {
   "cell_type": "code",
   "execution_count": null,
   "metadata": {},
   "outputs": [],
   "source": []
  }
 ],
 "metadata": {
  "kernelspec": {
   "display_name": "Python 3",
   "language": "python",
   "name": "python3"
  },
  "language_info": {
   "codemirror_mode": {
    "name": "ipython",
    "version": 3
   },
   "file_extension": ".py",
   "mimetype": "text/x-python",
   "name": "python",
   "nbconvert_exporter": "python",
   "pygments_lexer": "ipython3",
   "version": "3.8.3"
  }
 },
 "nbformat": 4,
 "nbformat_minor": 4
}
