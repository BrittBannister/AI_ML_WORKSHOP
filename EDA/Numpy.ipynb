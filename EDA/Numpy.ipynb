{
 "cells": [
  {
   "cell_type": "markdown",
   "metadata": {},
   "source": [
    "# Numpy ---> package / module\n",
    "\n",
    "\n",
    "### POWERFUL N-DIMENSIONAL ARRAYS\n",
    "\n",
    "Fast and versatile, the NumPy vectorization, indexing, and broadcasting concepts are the de-facto standards of array computing today.\n",
    "\n",
    "\n",
    "### NUMERICAL COMPUTING TOOLS\n",
    "\n",
    "NumPy offers comprehensive mathematical functions, random number generators, linear algebra routines, Fourier transforms, and more.\n",
    "\n",
    "NumPy supports a wide range of hardware and computing platforms, and plays well with distributed, GPU, and sparse array libraries.\n",
    "\n",
    "The core of NumPy is well-optimized C code. Enjoy the flexibility of Python with the speed of compiled code."
   ]
  },
  {
   "cell_type": "code",
   "execution_count": 1,
   "metadata": {},
   "outputs": [
    {
     "name": "stdout",
     "output_type": "stream",
     "text": [
      "[12.   3.4 89. ]\n"
     ]
    }
   ],
   "source": [
    "import numpy \n",
    "a = numpy.array([12,3.4,89])  #\n",
    "print(a)"
   ]
  },
  {
   "cell_type": "code",
   "execution_count": 3,
   "metadata": {},
   "outputs": [
    {
     "name": "stdout",
     "output_type": "stream",
     "text": [
      "[12  3 89]\n",
      "12\n",
      "3\n"
     ]
    }
   ],
   "source": [
    "import numpy \n",
    "a = numpy.array([12,3,89])  #\n",
    "print(a)\n",
    "print(a[0])\n",
    "print(a[1])"
   ]
  },
  {
   "cell_type": "code",
   "execution_count": 5,
   "metadata": {},
   "outputs": [
    {
     "name": "stdout",
     "output_type": "stream",
     "text": [
      "0.9051849164059058\n"
     ]
    }
   ],
   "source": [
    "import numpy\n",
    "print(numpy.random.random())"
   ]
  },
  {
   "cell_type": "code",
   "execution_count": 6,
   "metadata": {},
   "outputs": [
    {
     "name": "stdout",
     "output_type": "stream",
     "text": [
      "0.7720911328939231\n"
     ]
    }
   ],
   "source": [
    "import numpy\n",
    "print(numpy.random.random())"
   ]
  },
  {
   "cell_type": "code",
   "execution_count": 7,
   "metadata": {},
   "outputs": [
    {
     "name": "stdout",
     "output_type": "stream",
     "text": [
      "0.9909393072040291\n"
     ]
    }
   ],
   "source": [
    "import numpy\n",
    "print(numpy.random.random())"
   ]
  },
  {
   "cell_type": "code",
   "execution_count": 8,
   "metadata": {},
   "outputs": [
    {
     "name": "stdout",
     "output_type": "stream",
     "text": [
      "0.24161161420941069\n"
     ]
    }
   ],
   "source": [
    "import numpy\n",
    "print(numpy.random.random())"
   ]
  },
  {
   "cell_type": "code",
   "execution_count": 12,
   "metadata": {},
   "outputs": [
    {
     "name": "stdout",
     "output_type": "stream",
     "text": [
      "[1, 2, 3]\n",
      "[1, 8, 27]\n"
     ]
    }
   ],
   "source": [
    "a = [1,2,3]\n",
    "b = [i**3  for i  in a]\n",
    "print(a)\n",
    "print(b)"
   ]
  },
  {
   "cell_type": "code",
   "execution_count": 13,
   "metadata": {},
   "outputs": [
    {
     "name": "stdout",
     "output_type": "stream",
     "text": [
      "201 ms ± 37.9 ms per loop (mean ± std. dev. of 7 runs, 1 loop each)\n"
     ]
    }
   ],
   "source": [
    "a = range(100000)\n",
    "%timeit [i**3  for i  in a]\n"
   ]
  },
  {
   "cell_type": "code",
   "execution_count": 14,
   "metadata": {},
   "outputs": [
    {
     "name": "stdout",
     "output_type": "stream",
     "text": [
      "[ 1  8 27]\n",
      "[1 2 3]\n"
     ]
    }
   ],
   "source": [
    "import numpy\n",
    "a = numpy.array([1,2,3])\n",
    "b = a ** 3\n",
    "print(b)\n",
    "print(a)"
   ]
  },
  {
   "cell_type": "code",
   "execution_count": 17,
   "metadata": {},
   "outputs": [
    {
     "name": "stdout",
     "output_type": "stream",
     "text": [
      "651 µs ± 23.6 µs per loop (mean ± std. dev. of 7 runs, 1000 loops each)\n"
     ]
    }
   ],
   "source": [
    "import numpy\n",
    "a = range(100000)\n",
    "a = numpy.array(a)\n",
    "%timeit a ** 3\n"
   ]
  },
  {
   "cell_type": "code",
   "execution_count": 18,
   "metadata": {},
   "outputs": [
    {
     "name": "stdout",
     "output_type": "stream",
     "text": [
      "712 µs ± 77.9 µs per loop (mean ± std. dev. of 7 runs, 1000 loops each)\n"
     ]
    }
   ],
   "source": [
    "import numpy\n",
    "a = numpy.arange(100000)\n",
    "%timeit a ** 3\n"
   ]
  },
  {
   "cell_type": "code",
   "execution_count": 23,
   "metadata": {},
   "outputs": [
    {
     "name": "stdout",
     "output_type": "stream",
     "text": [
      "[1 2 3]\n",
      "1 D\n",
      "(3,)\n"
     ]
    }
   ],
   "source": [
    "# Single numpy array\n",
    "import numpy as np\n",
    "a=np.array([1,2,3])  # 1 D\n",
    "print(a)\n",
    "print(a.ndim ,\"D\")\n",
    "print(a.shape)"
   ]
  },
  {
   "cell_type": "code",
   "execution_count": 24,
   "metadata": {},
   "outputs": [
    {
     "name": "stdout",
     "output_type": "stream",
     "text": [
      "[[1 2 3]\n",
      " [9 4 5]]\n",
      "2 D\n",
      "(2, 3)\n"
     ]
    }
   ],
   "source": [
    "# Two Dimentional numpy array\n",
    "import numpy as np\n",
    "a=np.array([[1,2,3],[9,4,5]])  # 2 D\n",
    "print(a)\n",
    "print(a.ndim ,\"D\")\n",
    "print(a.shape)"
   ]
  },
  {
   "cell_type": "code",
   "execution_count": 27,
   "metadata": {},
   "outputs": [
    {
     "name": "stdout",
     "output_type": "stream",
     "text": [
      "[[[1 2 3]\n",
      "  [9 4 5]]\n",
      "\n",
      " [[1 2 3]\n",
      "  [9 4 5]]]\n",
      "3 D\n",
      "(2, 2, 3)\n",
      "<class 'numpy.ndarray'>\n"
     ]
    }
   ],
   "source": [
    "# Three Dimentional numpy array\n",
    "import numpy as np\n",
    "a=np.array([[[1,2,3],[9,4,5]],[[1,2,3],[9,4,5]]])  # 3 D\n",
    "print(a)\n",
    "print(a.ndim ,\"D\")\n",
    "print(a.shape)\n",
    "print(type(a))"
   ]
  },
  {
   "cell_type": "code",
   "execution_count": 28,
   "metadata": {},
   "outputs": [
    {
     "name": "stdout",
     "output_type": "stream",
     "text": [
      "[[[[1 2 3]\n",
      "   [9 4 5]]\n",
      "\n",
      "  [[1 2 3]\n",
      "   [9 4 5]]]\n",
      "\n",
      "\n",
      " [[[1 2 3]\n",
      "   [9 4 5]]\n",
      "\n",
      "  [[1 2 3]\n",
      "   [9 4 5]]]]\n",
      "4 D\n",
      "(2, 2, 2, 3)\n",
      "<class 'numpy.ndarray'>\n"
     ]
    }
   ],
   "source": [
    "# four Dimentional numpy array\n",
    "import numpy as np\n",
    "a=np.array([[[[1,2,3],[9,4,5]],[[1,2,3],[9,4,5]]],[[[1,2,3],[9,4,5]],[[1,2,3],[9,4,5]]]])  # 4 D\n",
    "print(a)\n",
    "print(a.ndim ,\"D\")\n",
    "print(a.shape)\n",
    "print(type(a))"
   ]
  },
  {
   "cell_type": "code",
   "execution_count": 29,
   "metadata": {},
   "outputs": [
    {
     "name": "stdout",
     "output_type": "stream",
     "text": [
      "28000\n",
      "4000\n"
     ]
    }
   ],
   "source": [
    "# memory uses \n",
    "\n",
    "import numpy as np\n",
    "import time\n",
    "import sys\n",
    "S= range(1000)  # S list \n",
    "print(sys.getsizeof(5)*len(S))\n",
    " \n",
    "D= np.arange(1000) # Array\n",
    "print(D.size*D.itemsize)"
   ]
  },
  {
   "cell_type": "code",
   "execution_count": 31,
   "metadata": {},
   "outputs": [
    {
     "name": "stdout",
     "output_type": "stream",
     "text": [
      "1.08 ms ± 190 µs per loop (mean ± std. dev. of 7 runs, 100 loops each)\n",
      "162 ms ± 50.8 ms per loop (mean ± std. dev. of 7 runs, 10 loops each)\n"
     ]
    }
   ],
   "source": [
    "#speed \n",
    "import numpy\n",
    "a = numpy.arange(100000)\n",
    "%timeit a ** 3\n",
    "a  = range(100000)\n",
    "%timeit [i ** 3 for  i in a]"
   ]
  },
  {
   "cell_type": "code",
   "execution_count": 32,
   "metadata": {},
   "outputs": [
    {
     "name": "stdout",
     "output_type": "stream",
     "text": [
      "4\n"
     ]
    }
   ],
   "source": [
    "import numpy as np\n",
    "a = np.array([(1,2,3)])\n",
    "print(a.itemsize)"
   ]
  },
  {
   "cell_type": "code",
   "execution_count": 34,
   "metadata": {},
   "outputs": [
    {
     "name": "stdout",
     "output_type": "stream",
     "text": [
      "float64\n"
     ]
    }
   ],
   "source": [
    "import numpy as np\n",
    "a = np.array([(1,25.2,3)])\n",
    "print(a.dtype)"
   ]
  },
  {
   "cell_type": "code",
   "execution_count": 36,
   "metadata": {},
   "outputs": [
    {
     "name": "stdout",
     "output_type": "stream",
     "text": [
      "[[ 8  9 10]\n",
      " [11 12 13]]\n",
      "(2, 3)\n",
      "[[ 8  9]\n",
      " [10 11]\n",
      " [12 13]]\n",
      "(3, 2)\n"
     ]
    }
   ],
   "source": [
    "import numpy as np\n",
    "a = np.array([(8,9,10),(11,12,13)])  # 2,3\n",
    "print(a)\n",
    "print(a.shape)\n",
    "a=a.reshape(3,2)  # 3,2\n",
    "print(a)\n",
    "print(a.shape)"
   ]
  },
  {
   "cell_type": "code",
   "execution_count": 37,
   "metadata": {},
   "outputs": [
    {
     "name": "stdout",
     "output_type": "stream",
     "text": [
      "3\n"
     ]
    }
   ],
   "source": [
    "import numpy as np\n",
    "a=np.array([(1,2,3,4),(3,4,5,6)])\n",
    "print(a[0,2])"
   ]
  },
  {
   "cell_type": "code",
   "execution_count": 38,
   "metadata": {},
   "outputs": [
    {
     "name": "stdout",
     "output_type": "stream",
     "text": [
      "6\n"
     ]
    }
   ],
   "source": [
    "import numpy as np\n",
    "a=np.array([(1,2,3,4),(3,4,5,6)])\n",
    "print(a[1,3])"
   ]
  },
  {
   "cell_type": "code",
   "execution_count": 39,
   "metadata": {},
   "outputs": [
    {
     "name": "stdout",
     "output_type": "stream",
     "text": [
      "[1.         1.22222222 1.44444444 1.66666667 1.88888889 2.11111111\n",
      " 2.33333333 2.55555556 2.77777778 3.        ]\n"
     ]
    }
   ],
   "source": [
    "import numpy as np\n",
    "a=np.linspace(1,3,10)\n",
    "print(a)"
   ]
  },
  {
   "cell_type": "code",
   "execution_count": 40,
   "metadata": {},
   "outputs": [
    {
     "name": "stdout",
     "output_type": "stream",
     "text": [
      "[1.         1.22222222 1.44444444 1.66666667 1.88888889 2.11111111\n",
      " 2.33333333 2.55555556 2.77777778 3.        ]\n",
      "3.0\n",
      "1.0\n",
      "20.0\n",
      "2.0\n"
     ]
    }
   ],
   "source": [
    "import numpy as np\n",
    "a=np.linspace(1,3,10)\n",
    "print(a)\n",
    "print(a.max())\n",
    "print(a.min())\n",
    "print(a.sum())\n",
    "print(a.mean())"
   ]
  },
  {
   "cell_type": "code",
   "execution_count": 49,
   "metadata": {},
   "outputs": [
    {
     "name": "stdout",
     "output_type": "stream",
     "text": [
      "[[1.         1.41421356 1.73205081]\n",
      " [1.73205081 2.         2.23606798]]\n",
      "1.2909944487358056\n",
      "1.6666666666666665\n",
      "3.0\n",
      "3.0\n"
     ]
    }
   ],
   "source": [
    "import numpy as np\n",
    "a=np.array([(1,2,3),(3,4,5,)])\n",
    "print(np.sqrt(a))\n",
    "print(np.std(a))\n",
    "print(np.std(a) ** 2)\n",
    "print(np.median(a))\n",
    "print(np.mean(a))\n"
   ]
  },
  {
   "cell_type": "code",
   "execution_count": 50,
   "metadata": {},
   "outputs": [
    {
     "name": "stdout",
     "output_type": "stream",
     "text": [
      "[[ 2  4  6]\n",
      " [ 6  8 10]]\n"
     ]
    }
   ],
   "source": [
    "import numpy as np\n",
    "x= np.array([(1,2,3),(3,4,5)])\n",
    "y= np.array([(1,2,3),(3,4,5)])\n",
    "print(x+y)"
   ]
  },
  {
   "cell_type": "code",
   "execution_count": 51,
   "metadata": {},
   "outputs": [
    {
     "name": "stdout",
     "output_type": "stream",
     "text": [
      "[[0 0 0]\n",
      " [0 0 0]]\n"
     ]
    }
   ],
   "source": [
    "import numpy as np\n",
    "x= np.array([(1,2,3),(3,4,5)])\n",
    "y= np.array([(1,2,3),(3,4,5)])\n",
    "print(x-y)"
   ]
  },
  {
   "cell_type": "code",
   "execution_count": 52,
   "metadata": {},
   "outputs": [
    {
     "name": "stdout",
     "output_type": "stream",
     "text": [
      "[[ 1  4  9]\n",
      " [ 9 16 25]]\n"
     ]
    }
   ],
   "source": [
    "import numpy as np\n",
    "x= np.array([(1,2,3),(3,4,5)])\n",
    "y= np.array([(1,2,3),(3,4,5)])\n",
    "print(x*y)"
   ]
  },
  {
   "cell_type": "code",
   "execution_count": 53,
   "metadata": {},
   "outputs": [
    {
     "name": "stdout",
     "output_type": "stream",
     "text": [
      "[[1. 1. 1.]\n",
      " [1. 1. 1.]]\n"
     ]
    }
   ],
   "source": [
    "import numpy as np\n",
    "x= np.array([(1,2,3),(3,4,5)])\n",
    "y= np.array([(1,2,3),(3,4,5)])\n",
    "print(x/y)"
   ]
  },
  {
   "cell_type": "code",
   "execution_count": 56,
   "metadata": {},
   "outputs": [
    {
     "name": "stdout",
     "output_type": "stream",
     "text": [
      "[[1 2 3]\n",
      " [3 4 5]\n",
      " [1 2 3]\n",
      " [3 4 5]]\n"
     ]
    }
   ],
   "source": [
    "import numpy as np\n",
    "x= np.array([(1,2,3),(3,4,5)])\n",
    "y= np.array([(1,2,3),(3,4,5)])\n",
    "print(np.vstack((x,y)))\n",
    "#print(np.hstack((x,y)))"
   ]
  },
  {
   "cell_type": "code",
   "execution_count": 57,
   "metadata": {},
   "outputs": [
    {
     "name": "stdout",
     "output_type": "stream",
     "text": [
      "[[1 2 3 1 2 3]\n",
      " [3 4 5 3 4 5]]\n"
     ]
    }
   ],
   "source": [
    "import numpy as np\n",
    "x= np.array([(1,2,3),(3,4,5)])\n",
    "y= np.array([(1,2,3),(3,4,5)])\n",
    "#print(np.vstack((x,y)))\n",
    "print(np.hstack((x,y)))"
   ]
  },
  {
   "cell_type": "code",
   "execution_count": 58,
   "metadata": {},
   "outputs": [
    {
     "name": "stdout",
     "output_type": "stream",
     "text": [
      "[1 2 3 3 4 5]\n"
     ]
    }
   ],
   "source": [
    "import numpy as np\n",
    "x= np.array([(1,2,3),(3,4,5)])\n",
    "print(x.ravel())"
   ]
  },
  {
   "cell_type": "code",
   "execution_count": 59,
   "metadata": {},
   "outputs": [
    {
     "name": "stdout",
     "output_type": "stream",
     "text": [
      "[ 2.71828183  7.3890561  20.08553692]\n"
     ]
    }
   ],
   "source": [
    "a= np.array([1,2,3])\n",
    "print(np.exp(a))"
   ]
  },
  {
   "cell_type": "code",
   "execution_count": 63,
   "metadata": {},
   "outputs": [
    {
     "name": "stdout",
     "output_type": "stream",
     "text": [
      "[0.         0.69314718 1.09861229 2.30258509]\n"
     ]
    }
   ],
   "source": [
    "a= np.array([1,2,3,10])\n",
    "print(np.log(a))"
   ]
  },
  {
   "cell_type": "code",
   "execution_count": 64,
   "metadata": {},
   "outputs": [
    {
     "name": "stdout",
     "output_type": "stream",
     "text": [
      "[0.         0.30103    0.47712125 1.        ]\n"
     ]
    }
   ],
   "source": [
    "a= np.array([1,2,3,10])\n",
    "print(np.log10(a))"
   ]
  },
  {
   "cell_type": "code",
   "execution_count": 65,
   "metadata": {},
   "outputs": [
    {
     "name": "stdout",
     "output_type": "stream",
     "text": [
      "[ 79 135 123]\n",
      "******\n",
      "[146 191]\n"
     ]
    }
   ],
   "source": [
    "a  =np.array([[12,45,89],[67,90,34]])\n",
    "print(a.sum(axis =0)) \n",
    "print(\"******\")\n",
    "print(a.sum(axis = 1))"
   ]
  },
  {
   "cell_type": "code",
   "execution_count": 66,
   "metadata": {},
   "outputs": [
    {
     "name": "stdout",
     "output_type": "stream",
     "text": [
      "[[False  True False]\n",
      " [ True False False]]\n"
     ]
    }
   ],
   "source": [
    "a  =np.array([[12,45,89],[45,90,34]])\n",
    "print(a == 45)"
   ]
  },
  {
   "cell_type": "code",
   "execution_count": 67,
   "metadata": {},
   "outputs": [
    {
     "name": "stdout",
     "output_type": "stream",
     "text": [
      "[[False  True  True]\n",
      " [ True  True False]]\n"
     ]
    }
   ],
   "source": [
    "a  =np.array([[12,45,89],[45,90,34]])\n",
    "print(a >= 45)"
   ]
  },
  {
   "cell_type": "code",
   "execution_count": 69,
   "metadata": {},
   "outputs": [
    {
     "name": "stdout",
     "output_type": "stream",
     "text": [
      "(6,)\n",
      "[0 1 2 3 4 5]\n",
      "1 D\n",
      "****\n",
      "(1, 6)\n",
      "[[0 1 2 3 4 5]]\n",
      "2 D\n"
     ]
    }
   ],
   "source": [
    "# increase one dimention for Every  new axis\n",
    "a = np.arange(6)  # 1 D\n",
    "print(a.shape)\n",
    "print(a)\n",
    "print(a.ndim,\"D\")\n",
    "a2 = a[np.newaxis, :]\n",
    "print(\"****\")\n",
    "print(a2.shape)\n",
    "print(a2)\n",
    "print(a2.ndim,\"D\")"
   ]
  },
  {
   "cell_type": "code",
   "execution_count": 70,
   "metadata": {},
   "outputs": [
    {
     "name": "stdout",
     "output_type": "stream",
     "text": [
      "****\n",
      "(1, 6)\n",
      "[[0 1 2 3 4 5]]\n",
      "2 D\n",
      "****\n",
      "(1, 1, 6)\n",
      "[[[0 1 2 3 4 5]]]\n",
      "3 D\n"
     ]
    }
   ],
   "source": [
    "a2 = a[np.newaxis, :]   # 2D\n",
    "print(\"****\")\n",
    "print(a2.shape)\n",
    "print(a2)\n",
    "print(a2.ndim,\"D\")\n",
    "a3 = a2[np.newaxis, :]   # 3D\n",
    "print(\"****\")\n",
    "print(a3.shape)\n",
    "print(a3)\n",
    "print(a3.ndim,\"D\")"
   ]
  },
  {
   "cell_type": "code",
   "execution_count": 72,
   "metadata": {},
   "outputs": [
    {
     "name": "stdout",
     "output_type": "stream",
     "text": [
      "[[0. 0. 0. 0.]\n",
      " [0. 0. 0. 0.]\n",
      " [0. 0. 0. 0.]\n",
      " [0. 0. 0. 0.]\n",
      " [0. 0. 0. 0.]]\n"
     ]
    }
   ],
   "source": [
    "a = np.zeros((5,4)) #\n",
    "print(a)"
   ]
  },
  {
   "cell_type": "code",
   "execution_count": 73,
   "metadata": {},
   "outputs": [
    {
     "name": "stdout",
     "output_type": "stream",
     "text": [
      "[[1. 1. 1. 1.]\n",
      " [1. 1. 1. 1.]\n",
      " [1. 1. 1. 1.]\n",
      " [1. 1. 1. 1.]\n",
      " [1. 1. 1. 1.]]\n"
     ]
    }
   ],
   "source": [
    "a = np.ones((5,4)) #\n",
    "print(a)"
   ]
  },
  {
   "cell_type": "code",
   "execution_count": 74,
   "metadata": {},
   "outputs": [
    {
     "name": "stdout",
     "output_type": "stream",
     "text": [
      "[[7 7 7 7]\n",
      " [7 7 7 7]\n",
      " [7 7 7 7]\n",
      " [7 7 7 7]\n",
      " [7 7 7 7]]\n"
     ]
    }
   ],
   "source": [
    "a = np.full((5,4),7) #\n",
    "print(a)"
   ]
  },
  {
   "cell_type": "code",
   "execution_count": 77,
   "metadata": {},
   "outputs": [
    {
     "name": "stdout",
     "output_type": "stream",
     "text": [
      "[4.24399158e-314 2.12199579e-313]\n"
     ]
    }
   ],
   "source": [
    "a = np.empty(2)\n",
    "print(a)"
   ]
  },
  {
   "cell_type": "code",
   "execution_count": 78,
   "metadata": {},
   "outputs": [
    {
     "name": "stdout",
     "output_type": "stream",
     "text": [
      "[4.24399158e-314 2.12199579e-313]\n"
     ]
    }
   ],
   "source": [
    "b = np.empty(2)\n",
    "print(b)"
   ]
  },
  {
   "cell_type": "code",
   "execution_count": 80,
   "metadata": {},
   "outputs": [
    {
     "name": "stdout",
     "output_type": "stream",
     "text": [
      "[2 1 5 3 7 4 6 8]\n",
      "[1 2 3 4 5 6 7 8]\n"
     ]
    }
   ],
   "source": [
    "arr = np.array([2, 1, 5, 3, 7, 4, 6, 8])\n",
    "print(arr)\n",
    "arr.sort()\n",
    "print(arr)\n"
   ]
  },
  {
   "cell_type": "code",
   "execution_count": 82,
   "metadata": {},
   "outputs": [
    {
     "name": "stdout",
     "output_type": "stream",
     "text": [
      "[2 1 5 3 7 4 6 8]\n",
      "[1 2 3 4 5 6 7 8]\n",
      "[2 1 5 3 7 4 6 8]\n"
     ]
    }
   ],
   "source": [
    "arr = np.array([2, 1, 5, 3, 7, 4, 6, 8])\n",
    "print(arr)\n",
    "print(np.sort(arr))\n",
    "print(arr)\n"
   ]
  },
  {
   "cell_type": "code",
   "execution_count": 84,
   "metadata": {},
   "outputs": [
    {
     "name": "stdout",
     "output_type": "stream",
     "text": [
      "[[1 0 2]\n",
      " [2 0 1]]\n"
     ]
    }
   ],
   "source": [
    "a = np.array([[13,4,34],[9,45,-34]])\n",
    "print(np.argsort(a))"
   ]
  },
  {
   "cell_type": "code",
   "execution_count": null,
   "metadata": {},
   "outputs": [],
   "source": []
  }
 ],
 "metadata": {
  "kernelspec": {
   "display_name": "Python 3",
   "language": "python",
   "name": "python3"
  },
  "language_info": {
   "codemirror_mode": {
    "name": "ipython",
    "version": 3
   },
   "file_extension": ".py",
   "mimetype": "text/x-python",
   "name": "python",
   "nbconvert_exporter": "python",
   "pygments_lexer": "ipython3",
   "version": "3.8.3"
  }
 },
 "nbformat": 4,
 "nbformat_minor": 4
}
