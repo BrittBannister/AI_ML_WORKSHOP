{
 "cells": [
  {
   "cell_type": "code",
   "execution_count": null,
   "metadata": {},
   "outputs": [],
   "source": [
    "# function --> collection of statements as a block --> to do a task\n",
    "'''\n",
    "1. function defination --> collection of statement\n",
    "\n",
    "2. function call -------> to execute the function defination\n",
    "'''\n",
    "# function defination\n",
    "def fun_name():\n",
    "    pass\n",
    "# function call1\n",
    "fun_name()\n",
    "# function call2\n",
    "fun_name()\n",
    "# function call3\n",
    "fun_name()\n",
    "# function call4\n",
    "fun_name()"
   ]
  },
  {
   "cell_type": "code",
   "execution_count": 1,
   "metadata": {},
   "outputs": [
    {
     "name": "stdout",
     "output_type": "stream",
     "text": [
      "enter N : -2\n",
      "please provide the positive number\n",
      "enter N : 0\n",
      "factorial of  0  is 1\n",
      "enter N : 5\n",
      "factorial of  5  is  120\n"
     ]
    }
   ],
   "source": [
    "# wap find the factorial of a number\n",
    "def factorial():\n",
    "    N = int(input(\"enter N : \"))\n",
    "    if(N >= 0):\n",
    "        if(N ==0  or N == 1):\n",
    "            print(\"factorial of \",N,\" is 1\")\n",
    "        else:\n",
    "            fact =1\n",
    "            for e in range(2,N+1):\n",
    "                fact =  fact * e\n",
    "            else:\n",
    "                print(\"factorial of \",N,\" is \",fact)\n",
    "    else:\n",
    "        print(\"please provide the positive number\")\n",
    "\n",
    "factorial()  # -2 # please provide the proper number\n",
    "factorial()  # 0  # 1\n",
    "factorial()  # 5  # 120\n"
   ]
  },
  {
   "cell_type": "code",
   "execution_count": 2,
   "metadata": {},
   "outputs": [
    {
     "name": "stdout",
     "output_type": "stream",
     "text": [
      "10\n",
      "100\n",
      "24\n"
     ]
    }
   ],
   "source": [
    "#arguments ---> we can send the data from  functioncall to defination\n",
    "def fun(a):\n",
    "    print(a)\n",
    "# call\n",
    "fun(10)  # 10\n",
    "b =100\n",
    "fun(b)  # 100\n",
    "fun(12+4*3) # 24"
   ]
  },
  {
   "cell_type": "code",
   "execution_count": 3,
   "metadata": {},
   "outputs": [
    {
     "name": "stdout",
     "output_type": "stream",
     "text": [
      "10\n"
     ]
    },
    {
     "ename": "TypeError",
     "evalue": "fun() missing 1 required positional argument: 'a'",
     "output_type": "error",
     "traceback": [
      "\u001b[1;31m---------------------------------------------------------------------------\u001b[0m",
      "\u001b[1;31mTypeError\u001b[0m                                 Traceback (most recent call last)",
      "\u001b[1;32m<ipython-input-3-0d5a4f40ee9b>\u001b[0m in \u001b[0;36m<module>\u001b[1;34m\u001b[0m\n\u001b[0;32m      3\u001b[0m     \u001b[0mprint\u001b[0m\u001b[1;33m(\u001b[0m\u001b[0ma\u001b[0m\u001b[1;33m)\u001b[0m\u001b[1;33m\u001b[0m\u001b[1;33m\u001b[0m\u001b[0m\n\u001b[0;32m      4\u001b[0m \u001b[0mfun\u001b[0m\u001b[1;33m(\u001b[0m\u001b[1;36m10\u001b[0m\u001b[1;33m)\u001b[0m \u001b[1;31m# 10\u001b[0m\u001b[1;33m\u001b[0m\u001b[1;33m\u001b[0m\u001b[0m\n\u001b[1;32m----> 5\u001b[1;33m \u001b[0mfun\u001b[0m\u001b[1;33m(\u001b[0m\u001b[1;33m)\u001b[0m  \u001b[1;31m# error\u001b[0m\u001b[1;33m\u001b[0m\u001b[1;33m\u001b[0m\u001b[0m\n\u001b[0m",
      "\u001b[1;31mTypeError\u001b[0m: fun() missing 1 required positional argument: 'a'"
     ]
    }
   ],
   "source": [
    "#default arguments\n",
    "def fun(a ):\n",
    "    print(a)\n",
    "fun(10) # 10\n",
    "fun()  # error"
   ]
  },
  {
   "cell_type": "code",
   "execution_count": 4,
   "metadata": {},
   "outputs": [
    {
     "name": "stdout",
     "output_type": "stream",
     "text": [
      "10\n",
      "None\n"
     ]
    }
   ],
   "source": [
    "#default arguments\n",
    "def fun(a = None):\n",
    "    print(a)\n",
    "fun(10) # 10\n",
    "fun()  # error"
   ]
  },
  {
   "cell_type": "code",
   "execution_count": 5,
   "metadata": {},
   "outputs": [
    {
     "name": "stdout",
     "output_type": "stream",
     "text": [
      "10\n",
      "20\n",
      "30\n"
     ]
    }
   ],
   "source": [
    "# packing \n",
    "def fun(a,b,c):\n",
    "    print(a)\n",
    "    print(b)\n",
    "    print(c)\n",
    "fun(10,20,30)"
   ]
  },
  {
   "cell_type": "code",
   "execution_count": 6,
   "metadata": {},
   "outputs": [
    {
     "ename": "TypeError",
     "evalue": "fun() takes 3 positional arguments but 4 were given",
     "output_type": "error",
     "traceback": [
      "\u001b[1;31m---------------------------------------------------------------------------\u001b[0m",
      "\u001b[1;31mTypeError\u001b[0m                                 Traceback (most recent call last)",
      "\u001b[1;32m<ipython-input-6-20ebe82f2a61>\u001b[0m in \u001b[0;36m<module>\u001b[1;34m\u001b[0m\n\u001b[0;32m      4\u001b[0m     \u001b[0mprint\u001b[0m\u001b[1;33m(\u001b[0m\u001b[0mb\u001b[0m\u001b[1;33m)\u001b[0m\u001b[1;33m\u001b[0m\u001b[1;33m\u001b[0m\u001b[0m\n\u001b[0;32m      5\u001b[0m     \u001b[0mprint\u001b[0m\u001b[1;33m(\u001b[0m\u001b[0mc\u001b[0m\u001b[1;33m)\u001b[0m\u001b[1;33m\u001b[0m\u001b[1;33m\u001b[0m\u001b[0m\n\u001b[1;32m----> 6\u001b[1;33m \u001b[0mfun\u001b[0m\u001b[1;33m(\u001b[0m\u001b[1;36m10\u001b[0m\u001b[1;33m,\u001b[0m\u001b[1;36m20\u001b[0m\u001b[1;33m,\u001b[0m\u001b[1;36m30\u001b[0m\u001b[1;33m,\u001b[0m\u001b[1;36m40\u001b[0m\u001b[1;33m)\u001b[0m\u001b[1;33m\u001b[0m\u001b[1;33m\u001b[0m\u001b[0m\n\u001b[0m",
      "\u001b[1;31mTypeError\u001b[0m: fun() takes 3 positional arguments but 4 were given"
     ]
    }
   ],
   "source": [
    "# packing \n",
    "def fun(a,b,c):\n",
    "    print(a)\n",
    "    print(b)\n",
    "    print(c)\n",
    "fun(10,20,30,40)"
   ]
  },
  {
   "cell_type": "code",
   "execution_count": 8,
   "metadata": {},
   "outputs": [
    {
     "name": "stdout",
     "output_type": "stream",
     "text": [
      "(10, 20, 30, 40)\n"
     ]
    }
   ],
   "source": [
    "# packing \n",
    "def fun(*a):\n",
    "    print(a)\n",
    "fun(10,20,30,40)"
   ]
  },
  {
   "cell_type": "code",
   "execution_count": 10,
   "metadata": {},
   "outputs": [
    {
     "name": "stdout",
     "output_type": "stream",
     "text": [
      "12\n",
      "34\n",
      "90\n"
     ]
    }
   ],
   "source": [
    "# unpacking \n",
    "def fun(a1,a2,a3):\n",
    "    print(a1)\n",
    "    print(a2)\n",
    "    print(a3)\n",
    "b = [12,34,90]\n",
    "fun(*b)"
   ]
  },
  {
   "cell_type": "code",
   "execution_count": 11,
   "metadata": {},
   "outputs": [
    {
     "name": "stdout",
     "output_type": "stream",
     "text": [
      "enter a : 123\n",
      "123\n",
      "enter a : 78\n",
      "78\n"
     ]
    }
   ],
   "source": [
    "# return  --->send data from defination to call\n",
    "def fun():\n",
    "    a = input(\"enter a : \")\n",
    "    return a\n",
    "b = fun()\n",
    "print(b)\n",
    "c = fun()\n",
    "print(c)"
   ]
  },
  {
   "cell_type": "code",
   "execution_count": 12,
   "metadata": {},
   "outputs": [
    {
     "name": "stdout",
     "output_type": "stream",
     "text": [
      "123\n",
      "inside of fuction\n"
     ]
    },
    {
     "ename": "UnboundLocalError",
     "evalue": "local variable 'var' referenced before assignment",
     "output_type": "error",
     "traceback": [
      "\u001b[1;31m---------------------------------------------------------------------------\u001b[0m",
      "\u001b[1;31mUnboundLocalError\u001b[0m                         Traceback (most recent call last)",
      "\u001b[1;32m<ipython-input-12-4eb7bdee4d1c>\u001b[0m in \u001b[0;36m<module>\u001b[1;34m\u001b[0m\n\u001b[0;32m      7\u001b[0m     \u001b[0mprint\u001b[0m\u001b[1;33m(\u001b[0m\u001b[0mvar\u001b[0m\u001b[1;33m)\u001b[0m\u001b[1;33m\u001b[0m\u001b[1;33m\u001b[0m\u001b[0m\n\u001b[0;32m      8\u001b[0m \u001b[0mprint\u001b[0m\u001b[1;33m(\u001b[0m\u001b[0mvar\u001b[0m\u001b[1;33m)\u001b[0m\u001b[1;33m\u001b[0m\u001b[1;33m\u001b[0m\u001b[0m\n\u001b[1;32m----> 9\u001b[1;33m \u001b[0mfun\u001b[0m\u001b[1;33m(\u001b[0m\u001b[1;33m)\u001b[0m\u001b[1;33m\u001b[0m\u001b[1;33m\u001b[0m\u001b[0m\n\u001b[0m\u001b[0;32m     10\u001b[0m \u001b[0mprint\u001b[0m\u001b[1;33m(\u001b[0m\u001b[1;34m\"outside\"\u001b[0m\u001b[1;33m)\u001b[0m\u001b[1;33m\u001b[0m\u001b[1;33m\u001b[0m\u001b[0m\n\u001b[0;32m     11\u001b[0m \u001b[0mprint\u001b[0m\u001b[1;33m(\u001b[0m\u001b[0mvar\u001b[0m\u001b[1;33m)\u001b[0m\u001b[1;33m\u001b[0m\u001b[1;33m\u001b[0m\u001b[0m\n",
      "\u001b[1;32m<ipython-input-12-4eb7bdee4d1c>\u001b[0m in \u001b[0;36mfun\u001b[1;34m()\u001b[0m\n\u001b[0;32m      3\u001b[0m \u001b[1;32mdef\u001b[0m \u001b[0mfun\u001b[0m\u001b[1;33m(\u001b[0m\u001b[1;33m)\u001b[0m\u001b[1;33m:\u001b[0m\u001b[1;33m\u001b[0m\u001b[1;33m\u001b[0m\u001b[0m\n\u001b[0;32m      4\u001b[0m     \u001b[0mprint\u001b[0m\u001b[1;33m(\u001b[0m\u001b[1;34m\"inside of fuction\"\u001b[0m\u001b[1;33m)\u001b[0m\u001b[1;33m\u001b[0m\u001b[1;33m\u001b[0m\u001b[0m\n\u001b[1;32m----> 5\u001b[1;33m     \u001b[0mprint\u001b[0m\u001b[1;33m(\u001b[0m\u001b[0mvar\u001b[0m\u001b[1;33m)\u001b[0m\u001b[1;33m\u001b[0m\u001b[1;33m\u001b[0m\u001b[0m\n\u001b[0m\u001b[0;32m      6\u001b[0m     \u001b[0mvar\u001b[0m \u001b[1;33m=\u001b[0m \u001b[1;36m456\u001b[0m\u001b[1;33m\u001b[0m\u001b[1;33m\u001b[0m\u001b[0m\n\u001b[0;32m      7\u001b[0m     \u001b[0mprint\u001b[0m\u001b[1;33m(\u001b[0m\u001b[0mvar\u001b[0m\u001b[1;33m)\u001b[0m\u001b[1;33m\u001b[0m\u001b[1;33m\u001b[0m\u001b[0m\n",
      "\u001b[1;31mUnboundLocalError\u001b[0m: local variable 'var' referenced before assignment"
     ]
    }
   ],
   "source": [
    "# global variable and local variable\n",
    "var = 123 # globalvariable # scope and life is whole program\n",
    "def fun():\n",
    "    print(\"inside of fuction\")\n",
    "    print(var)\n",
    "    var = 456\n",
    "    print(var)\n",
    "print(var)\n",
    "fun()\n",
    "print(\"outside\")\n",
    "print(var)"
   ]
  },
  {
   "cell_type": "code",
   "execution_count": 13,
   "metadata": {},
   "outputs": [
    {
     "name": "stdout",
     "output_type": "stream",
     "text": [
      "123\n",
      "inside of fuction\n",
      "123\n",
      "123\n",
      "outside\n",
      "123\n"
     ]
    }
   ],
   "source": [
    "# global variable and local variable\n",
    "var = 123 # globalvariable # scope and life is whole program\n",
    "def fun():\n",
    "    print(\"inside of fuction\")\n",
    "    print(var)\n",
    "    #var = 456\n",
    "    print(var)\n",
    "print(var)\n",
    "fun()\n",
    "print(\"outside\")\n",
    "print(var)"
   ]
  },
  {
   "cell_type": "code",
   "execution_count": 14,
   "metadata": {},
   "outputs": [
    {
     "name": "stdout",
     "output_type": "stream",
     "text": [
      "123\n",
      "inside of fuction\n",
      "123\n",
      "456\n",
      "outside\n",
      "456\n"
     ]
    }
   ],
   "source": [
    "# global variable and local variable\n",
    "var = 123 # globalvariable # scope and life is whole program\n",
    "def fun():\n",
    "    global var\n",
    "    print(\"inside of fuction\")\n",
    "    print(var)\n",
    "    var = 456\n",
    "    print(var)\n",
    "print(var)\n",
    "fun()\n",
    "print(\"outside\")\n",
    "print(var)"
   ]
  },
  {
   "cell_type": "code",
   "execution_count": null,
   "metadata": {},
   "outputs": [],
   "source": [
    "# professional python programmer\n",
    "\n",
    "def user_fun1():\n",
    "    pass\n",
    "def user_fun2():\n",
    "    pass\n",
    "def user_fun3():\n",
    "    pass\n",
    "def user_fun4():\n",
    "    pass\n",
    "def main():\n",
    "    pass\n",
    "if __name__ ==\"__main__\":  # main if block\n",
    "    main()"
   ]
  },
  {
   "cell_type": "code",
   "execution_count": 17,
   "metadata": {},
   "outputs": [
    {
     "name": "stdout",
     "output_type": "stream",
     "text": [
      "enter N : 7\n",
      "fact of  7  is  5040\n",
      "7  is prime :  True\n",
      "0   1   1   2   3   5   8   "
     ]
    }
   ],
   "source": [
    "# wap find the factorial , isprime  fibonic series \n",
    "def factorial(N =None):\n",
    "    if(N!=None):\n",
    "        if(N>=0):\n",
    "            fact =1\n",
    "            for i in range(1,N+1):\n",
    "                fact = fact* i\n",
    "            else:\n",
    "                return fact\n",
    "        else:\n",
    "            return None\n",
    "    else:\n",
    "        print(\"please provide the input\")\n",
    "        return None\n",
    "def isprime(N = None):\n",
    "    if(N!=None):\n",
    "        if(N>=2):\n",
    "            for i in range(2,N):\n",
    "                if(N % i ==0):\n",
    "                    return False\n",
    "            else:\n",
    "                return True\n",
    "        else:\n",
    "            return False\n",
    "    else:\n",
    "        print(\"please provide the input\")\n",
    "        return None\n",
    "def fibonic(N =None):\n",
    "    if(N != None):\n",
    "        if(N >0):\n",
    "            a = 0\n",
    "            b = 1\n",
    "            for var in range(N):\n",
    "                print(a,end = \"   \")\n",
    "                c = a+b\n",
    "                a = b\n",
    "                b = c\n",
    "        else:\n",
    "            print(\"please provide the positive number\")\n",
    "    else:\n",
    "        print(\"please provide the input\")\n",
    "def main():\n",
    "    num = int(input(\"enter N : \"))\n",
    "    print(\"fact of \",num,\" is \", factorial(num))\n",
    "    print(num,\" is prime : \",isprime(num))\n",
    "    fibonic(num)\n",
    "    \n",
    "if __name__ ==\"__main__\":\n",
    "    main()"
   ]
  },
  {
   "cell_type": "code",
   "execution_count": 1,
   "metadata": {},
   "outputs": [
    {
     "name": "stdout",
     "output_type": "stream",
     "text": [
      "a =  10 b =  20\n",
      "a =  20 b =  10\n"
     ]
    }
   ],
   "source": [
    "a = 10\n",
    "b = 20\n",
    "print(\"a = \", a,\"b = \",b)\n",
    "a,b = b,a\n",
    "print(\"a = \", a,\"b = \",b)"
   ]
  },
  {
   "cell_type": "code",
   "execution_count": 2,
   "metadata": {},
   "outputs": [
    {
     "name": "stdout",
     "output_type": "stream",
     "text": [
      "a =  10 b =  20\n",
      "a =  20 b =  10\n"
     ]
    }
   ],
   "source": [
    "a = 10\n",
    "b = 20\n",
    "print(\"a = \", a,\"b = \",b)\n",
    "(a,b) = (b,a)\n",
    "print(\"a = \", a,\"b = \",b)"
   ]
  },
  {
   "cell_type": "code",
   "execution_count": null,
   "metadata": {},
   "outputs": [],
   "source": []
  }
 ],
 "metadata": {
  "kernelspec": {
   "display_name": "Python 3",
   "language": "python",
   "name": "python3"
  },
  "language_info": {
   "codemirror_mode": {
    "name": "ipython",
    "version": 3
   },
   "file_extension": ".py",
   "mimetype": "text/x-python",
   "name": "python",
   "nbconvert_exporter": "python",
   "pygments_lexer": "ipython3",
   "version": "3.8.3"
  }
 },
 "nbformat": 4,
 "nbformat_minor": 4
}
