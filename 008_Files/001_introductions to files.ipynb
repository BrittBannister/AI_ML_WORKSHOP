{
 "cells": [
  {
   "cell_type": "code",
   "execution_count": 1,
   "metadata": {},
   "outputs": [
    {
     "name": "stdout",
     "output_type": "stream",
     "text": [
      "opening sample_write.txt file with write mode\n",
      "this file is not existed \n",
      "File is created \n",
      "FIle is closed \n"
     ]
    }
   ],
   "source": [
    "# file  ---> collection of related data in a storage device \n",
    "# file operations\n",
    "'''\n",
    "1. create file \n",
    "2. open file \n",
    "3. writing a data \n",
    "4. reading a from file \n",
    "5. close file \n",
    "'''\n",
    "# file handling --> we can do the file operations \n",
    "# file methods\n",
    "'''\n",
    "file_obj = open(\"file_name_path\",\"mode of operation\")\n",
    "# write()\n",
    "# read()\n",
    "# close()\n",
    "# tell()\n",
    "# seek()\n",
    "'''\n",
    "# mode of operations\n",
    "'''\n",
    "1. write mode\n",
    "\n",
    "2. read mode\n",
    "\n",
    "3. append mode\n",
    "'''\n",
    "# write mode  ---> \"w\"\n",
    "print(\"opening sample_write.txt file with write mode\")\n",
    "print(\"this file is not existed \")\n",
    "file_obj = open(\"sample_write.txt\",\"w\")\n",
    "print(\"File is created \")\n",
    "file_obj.close()\n",
    "print(\"FIle is closed \")"
   ]
  },
  {
   "cell_type": "code",
   "execution_count": 3,
   "metadata": {},
   "outputs": [
    {
     "name": "stdout",
     "output_type": "stream",
     "text": [
      "Opening sample_write.txt file with write mode\n",
      "this file is  existed \n",
      "Previous File  Data is Deleted and opened the file successfully\n",
      "FIle is closed \n"
     ]
    }
   ],
   "source": [
    "# write mode  ---> \"w\"\n",
    "print(\"Opening sample_write.txt file with write mode\")\n",
    "print(\"this file is  existed \")\n",
    "file_obj = open(\"sample_write.txt\",\"w\")\n",
    "print(\"Previous File  Data is Deleted and opened the file successfully\")\n",
    "file_obj.close()\n",
    "print(\"FIle is closed \")"
   ]
  },
  {
   "cell_type": "code",
   "execution_count": 4,
   "metadata": {},
   "outputs": [
    {
     "name": "stdout",
     "output_type": "stream",
     "text": [
      "Opening sample_write.txt file with write mode\n",
      "this file is  existed \n",
      "Previous File  Data is Deleted and opened the file successfully\n",
      "enter data to write into a file : 0123456789anjan9876543210\n",
      "new data is written into file \n",
      "FIle is closed \n"
     ]
    }
   ],
   "source": [
    "# write mode  ---> \"w\"\n",
    "print(\"Opening sample_write.txt file with write mode\")\n",
    "print(\"this file is  existed \")\n",
    "file_obj = open(\"sample_write.txt\",\"w\")\n",
    "print(\"Previous File  Data is Deleted and opened the file successfully\")\n",
    "data = input(\"enter data to write into a file : \")\n",
    "file_obj.write(data) #data is enterd\n",
    "print(\"new data is written into file \")\n",
    "file_obj.close()\n",
    "print(\"FIle is closed \")"
   ]
  },
  {
   "cell_type": "code",
   "execution_count": 5,
   "metadata": {},
   "outputs": [
    {
     "name": "stdout",
     "output_type": "stream",
     "text": [
      "Opening sample_write.txt file with write mode\n",
      "this file is  existed \n",
      "Previous File  Data is Deleted and opened the file successfully\n",
      "enter data to write into a file : anjankumar 976436536\n",
      "new data is written into file \n",
      "Setting the cursor at 0th position\n",
      "file loc :  0\n",
      "i am trying to reading \n"
     ]
    },
    {
     "ename": "UnsupportedOperation",
     "evalue": "not readable",
     "output_type": "error",
     "traceback": [
      "\u001b[1;31m---------------------------------------------------------------------------\u001b[0m",
      "\u001b[1;31mUnsupportedOperation\u001b[0m                      Traceback (most recent call last)",
      "\u001b[1;32m<ipython-input-5-8d0f160237a7>\u001b[0m in \u001b[0;36m<module>\u001b[1;34m\u001b[0m\n\u001b[0;32m     12\u001b[0m \u001b[0mprint\u001b[0m\u001b[1;33m(\u001b[0m\u001b[1;34m\"file loc : \"\u001b[0m\u001b[1;33m,\u001b[0m\u001b[0mfile_obj\u001b[0m\u001b[1;33m.\u001b[0m\u001b[0mtell\u001b[0m\u001b[1;33m(\u001b[0m\u001b[1;33m)\u001b[0m\u001b[1;33m)\u001b[0m \u001b[1;31m# 0\u001b[0m\u001b[1;33m\u001b[0m\u001b[1;33m\u001b[0m\u001b[0m\n\u001b[0;32m     13\u001b[0m \u001b[0mprint\u001b[0m\u001b[1;33m(\u001b[0m\u001b[1;34m\"i am trying to reading \"\u001b[0m\u001b[1;33m)\u001b[0m\u001b[1;33m\u001b[0m\u001b[1;33m\u001b[0m\u001b[0m\n\u001b[1;32m---> 14\u001b[1;33m \u001b[0mdata\u001b[0m \u001b[1;33m=\u001b[0m\u001b[0mfile_obj\u001b[0m\u001b[1;33m.\u001b[0m\u001b[0mread\u001b[0m\u001b[1;33m(\u001b[0m\u001b[1;33m)\u001b[0m \u001b[1;31m#we can't read --> error\u001b[0m\u001b[1;33m\u001b[0m\u001b[1;33m\u001b[0m\u001b[0m\n\u001b[0m\u001b[0;32m     15\u001b[0m \u001b[0mprint\u001b[0m\u001b[1;33m(\u001b[0m\u001b[1;34m\"read data : \"\u001b[0m\u001b[1;33m,\u001b[0m\u001b[0mdata\u001b[0m\u001b[1;33m)\u001b[0m\u001b[1;33m\u001b[0m\u001b[1;33m\u001b[0m\u001b[0m\n\u001b[0;32m     16\u001b[0m \u001b[0mfile_obj\u001b[0m\u001b[1;33m.\u001b[0m\u001b[0mclose\u001b[0m\u001b[1;33m(\u001b[0m\u001b[1;33m)\u001b[0m\u001b[1;33m\u001b[0m\u001b[1;33m\u001b[0m\u001b[0m\n",
      "\u001b[1;31mUnsupportedOperation\u001b[0m: not readable"
     ]
    }
   ],
   "source": [
    "# write mode  ---> \"w\"\n",
    "print(\"Opening sample_write.txt file with write mode\")\n",
    "print(\"this file is  existed \")\n",
    "file_obj = open(\"sample_write.txt\",\"w\")\n",
    "print(\"Previous File  Data is Deleted and opened the file successfully\")\n",
    "data = input(\"enter data to write into a file : \")\n",
    "file_obj.write(data) #data is enterd\n",
    "print(\"new data is written into file \")\n",
    "# seek(0,0) # Setting the cursor at 0th position\n",
    "file_obj.seek(0,0)\n",
    "print(\"Setting the cursor at 0th position\")\n",
    "print(\"file loc : \",file_obj.tell()) # 0\n",
    "print(\"i am trying to reading \")\n",
    "data =file_obj.read() #we can't read --> error\n",
    "print(\"read data : \",data)\n",
    "file_obj.close()\n",
    "print(\"FIle is closed \")"
   ]
  },
  {
   "cell_type": "code",
   "execution_count": 6,
   "metadata": {},
   "outputs": [
    {
     "name": "stdout",
     "output_type": "stream",
     "text": [
      "Opening sample_write.txt file with write mode\n",
      "this file is  existed \n",
      "Previous File  Data is Deleted and opened the file successfully\n",
      "enter data to write into a file : 1234567890anjan9876543210\n",
      "new data is written into file \n",
      "Setting the cursor at 0th position\n",
      "file loc :  0\n",
      "i am trying to reading \n",
      "read data :  1234567890anjan9876543210\n",
      "FIle is closed \n"
     ]
    }
   ],
   "source": [
    "# write mode  ---> \"w+\" ---> both reading + writing can do\n",
    "print(\"Opening sample_write.txt file with write mode\")\n",
    "print(\"this file is  existed \")\n",
    "file_obj = open(\"sample_write.txt\",\"w+\")\n",
    "print(\"Previous File  Data is Deleted and opened the file successfully\")\n",
    "data = input(\"enter data to write into a file : \")\n",
    "file_obj.write(data) #data is enterd\n",
    "print(\"new data is written into file \")\n",
    "# seek(0,0) # Setting the cursor at 0th position\n",
    "file_obj.seek(0,0)\n",
    "print(\"Setting the cursor at 0th position\")\n",
    "print(\"file loc : \",file_obj.tell()) # 0\n",
    "print(\"i am trying to reading \")\n",
    "data =file_obj.read() #we can't read --> error\n",
    "print(\"read data : \",data)\n",
    "file_obj.close()\n",
    "print(\"FIle is closed \")"
   ]
  },
  {
   "cell_type": "code",
   "execution_count": 9,
   "metadata": {},
   "outputs": [
    {
     "name": "stdout",
     "output_type": "stream",
     "text": [
      "opening sample_append.txt file with append mode\n",
      "this file is not existed \n",
      "File is created \n",
      "FIle is closed \n"
     ]
    }
   ],
   "source": [
    "# append --> a\n",
    "print(\"opening sample_append.txt file with append mode\")\n",
    "print(\"this file is not existed \")\n",
    "file_obj = open(\"sample_append.txt\",\"a\")\n",
    "print(\"File is created \")\n",
    "file_obj.close()\n",
    "print(\"FIle is closed \")"
   ]
  },
  {
   "cell_type": "code",
   "execution_count": 10,
   "metadata": {},
   "outputs": [
    {
     "name": "stdout",
     "output_type": "stream",
     "text": [
      "Opening sample_append.txt file with append  mode\n",
      "this file is  existed \n",
      "Previous File  Data is safe and opened the file successfully\n",
      "enter data to write into a file : 1234567890\n",
      "new data is written into file \n",
      "FIle is closed \n"
     ]
    }
   ],
   "source": [
    "# append  mode  ---> \"a\" --> we can't modify the existing \n",
    "print(\"Opening sample_append.txt file with append  mode\")\n",
    "print(\"this file is  existed \")\n",
    "file_obj = open(\"sample_append.txt\",\"a\")\n",
    "print(\"Previous File  Data is safe and opened the file successfully\")\n",
    "data = input(\"enter data to write into a file : \")\n",
    "file_obj.write(data) #data is enterd\n",
    "print(\"new data is written into file \")\n",
    "file_obj.close()\n",
    "print(\"FIle is closed \")"
   ]
  },
  {
   "cell_type": "code",
   "execution_count": 11,
   "metadata": {},
   "outputs": [
    {
     "name": "stdout",
     "output_type": "stream",
     "text": [
      "Opening sample_append.txt file with append mode\n",
      "this file is  existed \n",
      "Previous File  Data is Safe and opened the file successfully\n",
      "enter data to write into a file : anjan kumar\n",
      "new data is written into file \n",
      "Setting the cursor at 0th position\n",
      "file loc :  0\n",
      "i am trying to reading \n"
     ]
    },
    {
     "ename": "UnsupportedOperation",
     "evalue": "not readable",
     "output_type": "error",
     "traceback": [
      "\u001b[1;31m---------------------------------------------------------------------------\u001b[0m",
      "\u001b[1;31mUnsupportedOperation\u001b[0m                      Traceback (most recent call last)",
      "\u001b[1;32m<ipython-input-11-e43453e54c6a>\u001b[0m in \u001b[0;36m<module>\u001b[1;34m\u001b[0m\n\u001b[0;32m     12\u001b[0m \u001b[0mprint\u001b[0m\u001b[1;33m(\u001b[0m\u001b[1;34m\"file loc : \"\u001b[0m\u001b[1;33m,\u001b[0m\u001b[0mfile_obj\u001b[0m\u001b[1;33m.\u001b[0m\u001b[0mtell\u001b[0m\u001b[1;33m(\u001b[0m\u001b[1;33m)\u001b[0m\u001b[1;33m)\u001b[0m \u001b[1;31m# 0\u001b[0m\u001b[1;33m\u001b[0m\u001b[1;33m\u001b[0m\u001b[0m\n\u001b[0;32m     13\u001b[0m \u001b[0mprint\u001b[0m\u001b[1;33m(\u001b[0m\u001b[1;34m\"i am trying to reading \"\u001b[0m\u001b[1;33m)\u001b[0m\u001b[1;33m\u001b[0m\u001b[1;33m\u001b[0m\u001b[0m\n\u001b[1;32m---> 14\u001b[1;33m \u001b[0mdata\u001b[0m \u001b[1;33m=\u001b[0m\u001b[0mfile_obj\u001b[0m\u001b[1;33m.\u001b[0m\u001b[0mread\u001b[0m\u001b[1;33m(\u001b[0m\u001b[1;33m)\u001b[0m \u001b[1;31m#we can't read --> error\u001b[0m\u001b[1;33m\u001b[0m\u001b[1;33m\u001b[0m\u001b[0m\n\u001b[0m\u001b[0;32m     15\u001b[0m \u001b[0mprint\u001b[0m\u001b[1;33m(\u001b[0m\u001b[1;34m\"read data : \"\u001b[0m\u001b[1;33m,\u001b[0m\u001b[0mdata\u001b[0m\u001b[1;33m)\u001b[0m\u001b[1;33m\u001b[0m\u001b[1;33m\u001b[0m\u001b[0m\n\u001b[0;32m     16\u001b[0m \u001b[0mfile_obj\u001b[0m\u001b[1;33m.\u001b[0m\u001b[0mclose\u001b[0m\u001b[1;33m(\u001b[0m\u001b[1;33m)\u001b[0m\u001b[1;33m\u001b[0m\u001b[1;33m\u001b[0m\u001b[0m\n",
      "\u001b[1;31mUnsupportedOperation\u001b[0m: not readable"
     ]
    }
   ],
   "source": [
    "# append mode  ---> \"a\"\n",
    "print(\"Opening sample_append.txt file with append mode\")\n",
    "print(\"this file is  existed \")\n",
    "file_obj = open(\"sample_append.txt\",\"a\")\n",
    "print(\"Previous File  Data is Safe and opened the file successfully\")\n",
    "data = input(\"enter data to write into a file : \")\n",
    "file_obj.write(data) #data is enterd\n",
    "print(\"new data is written into file \")\n",
    "# seek(0,0) # Setting the cursor at 0th position\n",
    "file_obj.seek(0,0)\n",
    "print(\"Setting the cursor at 0th position\")\n",
    "print(\"file loc : \",file_obj.tell()) # 0\n",
    "print(\"i am trying to reading \")\n",
    "data =file_obj.read() #we can't read --> error\n",
    "print(\"read data : \",data)\n",
    "file_obj.close()\n",
    "print(\"FIle is closed \")"
   ]
  },
  {
   "cell_type": "code",
   "execution_count": 12,
   "metadata": {},
   "outputs": [
    {
     "name": "stdout",
     "output_type": "stream",
     "text": [
      "Opening sample_append.txt file with append mode\n",
      "this file is  existed \n",
      "Previous File  Data is Safe and opened the file successfully\n",
      "enter data to write into a file : 1234567890\n",
      "new data is written into file \n",
      "Setting the cursor at 0th position\n",
      "file loc :  0\n",
      "i am trying to reading \n",
      "read data :  i am anjan\n",
      "1234567890anjan kumar1234567890\n",
      "FIle is closed \n"
     ]
    }
   ],
   "source": [
    "# append mode  ---> \"a+\"\n",
    "print(\"Opening sample_append.txt file with append mode\")\n",
    "print(\"this file is  existed \")\n",
    "file_obj = open(\"sample_append.txt\",\"a+\")\n",
    "print(\"Previous File  Data is Safe and opened the file successfully\")\n",
    "data = input(\"enter data to write into a file : \")\n",
    "file_obj.write(data) #data is enterd\n",
    "print(\"new data is written into file \")\n",
    "# seek(0,0) # Setting the cursor at 0th position\n",
    "file_obj.seek(0,0)\n",
    "print(\"Setting the cursor at 0th position\")\n",
    "print(\"file loc : \",file_obj.tell()) # 0\n",
    "print(\"i am trying to reading \")\n",
    "data =file_obj.read() #we can't read --> error\n",
    "print(\"read data : \",data)\n",
    "file_obj.close()\n",
    "print(\"FIle is closed \")"
   ]
  },
  {
   "cell_type": "code",
   "execution_count": 13,
   "metadata": {},
   "outputs": [
    {
     "name": "stdout",
     "output_type": "stream",
     "text": [
      "Opening a sample_read.txt with read mode\n",
      "This file is not existed then \n"
     ]
    },
    {
     "ename": "FileNotFoundError",
     "evalue": "[Errno 2] No such file or directory: 'sample_read.txt'",
     "output_type": "error",
     "traceback": [
      "\u001b[1;31m---------------------------------------------------------------------------\u001b[0m",
      "\u001b[1;31mFileNotFoundError\u001b[0m                         Traceback (most recent call last)",
      "\u001b[1;32m<ipython-input-13-00c71007ae47>\u001b[0m in \u001b[0;36m<module>\u001b[1;34m\u001b[0m\n\u001b[0;32m      2\u001b[0m \u001b[0mprint\u001b[0m\u001b[1;33m(\u001b[0m\u001b[1;34m\"Opening a sample_read.txt with read mode\"\u001b[0m\u001b[1;33m)\u001b[0m\u001b[1;33m\u001b[0m\u001b[1;33m\u001b[0m\u001b[0m\n\u001b[0;32m      3\u001b[0m \u001b[0mprint\u001b[0m\u001b[1;33m(\u001b[0m\u001b[1;34m\"This file is not existed then \"\u001b[0m\u001b[1;33m)\u001b[0m\u001b[1;33m\u001b[0m\u001b[1;33m\u001b[0m\u001b[0m\n\u001b[1;32m----> 4\u001b[1;33m \u001b[0mfile_obj\u001b[0m \u001b[1;33m=\u001b[0m \u001b[0mopen\u001b[0m\u001b[1;33m(\u001b[0m\u001b[1;34m\"sample_read.txt\"\u001b[0m\u001b[1;33m,\u001b[0m\u001b[1;34m\"r\"\u001b[0m\u001b[1;33m)\u001b[0m\u001b[1;33m\u001b[0m\u001b[1;33m\u001b[0m\u001b[0m\n\u001b[0m\u001b[0;32m      5\u001b[0m \u001b[0mfile_obj\u001b[0m\u001b[1;33m.\u001b[0m\u001b[0mclose\u001b[0m\u001b[1;33m(\u001b[0m\u001b[1;33m)\u001b[0m\u001b[1;33m\u001b[0m\u001b[1;33m\u001b[0m\u001b[0m\n",
      "\u001b[1;31mFileNotFoundError\u001b[0m: [Errno 2] No such file or directory: 'sample_read.txt'"
     ]
    }
   ],
   "source": [
    "# read ---> r\n",
    "print(\"Opening a sample_read.txt with read mode\")\n",
    "print(\"This file is not existed then \")\n",
    "file_obj = open(\"sample_read.txt\",\"r\")\n",
    "file_obj.close()"
   ]
  },
  {
   "cell_type": "code",
   "execution_count": 14,
   "metadata": {},
   "outputs": [
    {
     "name": "stdout",
     "output_type": "stream",
     "text": [
      "Opening a sample_append.txt with read mode\n",
      "This file is existed with some data \n",
      "file Opened successfully and previous file data is safe\n"
     ]
    }
   ],
   "source": [
    "# read ---> r\n",
    "print(\"Opening a sample_append.txt with read mode\")\n",
    "print(\"This file is existed with some data \")\n",
    "file_obj = open(\"sample_append.txt\",\"r\")\n",
    "print(\"file Opened successfully and previous file data is safe\")\n",
    "file_obj.close()"
   ]
  },
  {
   "cell_type": "code",
   "execution_count": 16,
   "metadata": {},
   "outputs": [
    {
     "name": "stdout",
     "output_type": "stream",
     "text": [
      "Opening a sample_append.txt with read mode\n",
      "This file is existed with some data \n",
      "file Opened successfully and previous file data is safe\n",
      "file data :  i am anjan\n",
      "1234567890anjan kumar1234567890\n",
      "file loc :  0\n"
     ]
    },
    {
     "ename": "UnsupportedOperation",
     "evalue": "not writable",
     "output_type": "error",
     "traceback": [
      "\u001b[1;31m---------------------------------------------------------------------------\u001b[0m",
      "\u001b[1;31mUnsupportedOperation\u001b[0m                      Traceback (most recent call last)",
      "\u001b[1;32m<ipython-input-16-657cc2e7ac04>\u001b[0m in \u001b[0;36m<module>\u001b[1;34m\u001b[0m\n\u001b[0;32m      7\u001b[0m \u001b[0mfile_obj\u001b[0m\u001b[1;33m.\u001b[0m\u001b[0mseek\u001b[0m\u001b[1;33m(\u001b[0m\u001b[1;36m0\u001b[0m\u001b[1;33m,\u001b[0m\u001b[1;36m0\u001b[0m\u001b[1;33m)\u001b[0m\u001b[1;33m\u001b[0m\u001b[1;33m\u001b[0m\u001b[0m\n\u001b[0;32m      8\u001b[0m \u001b[0mprint\u001b[0m\u001b[1;33m(\u001b[0m\u001b[1;34m\"file loc : \"\u001b[0m\u001b[1;33m,\u001b[0m\u001b[0mfile_obj\u001b[0m\u001b[1;33m.\u001b[0m\u001b[0mtell\u001b[0m\u001b[1;33m(\u001b[0m\u001b[1;33m)\u001b[0m\u001b[1;33m)\u001b[0m \u001b[1;31m# 0\u001b[0m\u001b[1;33m\u001b[0m\u001b[1;33m\u001b[0m\u001b[0m\n\u001b[1;32m----> 9\u001b[1;33m \u001b[0mfile_obj\u001b[0m\u001b[1;33m.\u001b[0m\u001b[0mwrite\u001b[0m\u001b[1;33m(\u001b[0m\u001b[1;34m\"new data \"\u001b[0m\u001b[1;33m)\u001b[0m\u001b[1;33m\u001b[0m\u001b[1;33m\u001b[0m\u001b[0m\n\u001b[0m\u001b[0;32m     10\u001b[0m \u001b[0mfile_obj\u001b[0m\u001b[1;33m.\u001b[0m\u001b[0mseek\u001b[0m\u001b[1;33m(\u001b[0m\u001b[1;36m0\u001b[0m\u001b[1;33m,\u001b[0m\u001b[1;36m0\u001b[0m\u001b[1;33m)\u001b[0m\u001b[1;33m\u001b[0m\u001b[1;33m\u001b[0m\u001b[0m\n\u001b[0;32m     11\u001b[0m \u001b[0mprint\u001b[0m\u001b[1;33m(\u001b[0m\u001b[1;34m\"file loc : \"\u001b[0m\u001b[1;33m,\u001b[0m\u001b[0mfile_obj\u001b[0m\u001b[1;33m.\u001b[0m\u001b[0mtell\u001b[0m\u001b[1;33m(\u001b[0m\u001b[1;33m)\u001b[0m\u001b[1;33m)\u001b[0m \u001b[1;31m# 0\u001b[0m\u001b[1;33m\u001b[0m\u001b[1;33m\u001b[0m\u001b[0m\n",
      "\u001b[1;31mUnsupportedOperation\u001b[0m: not writable"
     ]
    }
   ],
   "source": [
    "# read ---> r\n",
    "print(\"Opening a sample_append.txt with read mode\")\n",
    "print(\"This file is existed with some data \")\n",
    "file_obj = open(\"sample_append.txt\",\"r\")\n",
    "print(\"file Opened successfully and previous file data is safe\")\n",
    "print(\"file data : \",file_obj.read()) # whole data\n",
    "file_obj.seek(0,0)\n",
    "print(\"file loc : \",file_obj.tell()) # 0\n",
    "file_obj.write(\"new data \") # writing some new data\n",
    "file_obj.seek(0,0)\n",
    "print(\"file loc : \",file_obj.tell()) # 0\n",
    "print(\"file data : \",file_obj.read()) # whole data\n",
    "file_obj.close()"
   ]
  },
  {
   "cell_type": "code",
   "execution_count": 17,
   "metadata": {},
   "outputs": [
    {
     "name": "stdout",
     "output_type": "stream",
     "text": [
      "Opening a sample_append.txt with read mode\n",
      "This file is existed with some data \n",
      "file Opened successfully and previous file data is safe\n",
      "file data :  i am anjan\n",
      "1234567890anjan kumar1234567890\n",
      "file loc :  0\n",
      "file loc :  0\n",
      "file data :  new data n\n",
      "1234567890anjan kumar1234567890\n"
     ]
    }
   ],
   "source": [
    "# read ---> r+\n",
    "print(\"Opening a sample_append.txt with read mode\")\n",
    "print(\"This file is existed with some data \")\n",
    "file_obj = open(\"sample_append.txt\",\"r+\")\n",
    "print(\"file Opened successfully and previous file data is safe\")\n",
    "print(\"file data : \",file_obj.read()) # whole data\n",
    "file_obj.seek(0,0)\n",
    "print(\"file loc : \",file_obj.tell()) # 0\n",
    "file_obj.write(\"new data \") # writing some new data\n",
    "file_obj.seek(0,0)\n",
    "print(\"file loc : \",file_obj.tell()) # 0\n",
    "print(\"file data : \",file_obj.read()) # whole data\n",
    "file_obj.close()"
   ]
  },
  {
   "cell_type": "code",
   "execution_count": null,
   "metadata": {},
   "outputs": [],
   "source": []
  }
 ],
 "metadata": {
  "kernelspec": {
   "display_name": "Python 3",
   "language": "python",
   "name": "python3"
  },
  "language_info": {
   "codemirror_mode": {
    "name": "ipython",
    "version": 3
   },
   "file_extension": ".py",
   "mimetype": "text/x-python",
   "name": "python",
   "nbconvert_exporter": "python",
   "pygments_lexer": "ipython3",
   "version": "3.8.3"
  }
 },
 "nbformat": 4,
 "nbformat_minor": 4
}
